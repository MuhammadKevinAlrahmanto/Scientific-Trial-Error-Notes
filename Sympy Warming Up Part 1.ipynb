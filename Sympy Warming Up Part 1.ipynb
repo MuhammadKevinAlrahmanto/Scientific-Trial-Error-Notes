{
 "cells": [
  {
   "cell_type": "code",
   "execution_count": 1,
   "id": "8f70ae64",
   "metadata": {},
   "outputs": [],
   "source": [
    "import sympy "
   ]
  },
  {
   "cell_type": "markdown",
   "id": "83fc3ccd",
   "metadata": {},
   "source": [
    "# 1. One dimensional taylor series"
   ]
  },
  {
   "cell_type": "markdown",
   "id": "ec339c93",
   "metadata": {},
   "source": [
    "$$\n",
    "P_n(x) = f(c) + f'(c)(x - c) + \\frac{f''(c)}{2!}(x - c)^2 + \\cdots + \\frac{f^{(n)}(c)}{n!}(x-c)^n\n",
    "$$"
   ]
  },
  {
   "cell_type": "markdown",
   "id": "e9d494d6",
   "metadata": {},
   "source": [
    "$$\n",
    "f(x)= f(x_0)+f'(x_0)(x-x_0)+\\frac{f''(x_0)}{2!}(x-x_0)^2+ \\frac{f'''(x_0)}{3!}(x-x_0)^3+\\cdots,\n",
    "$$\n",
    "$$\n",
    "f(x+h)= f(x)+f'(x)h+\\frac{f''(x)}{2!}h^2+ \\frac{f'''(x)}{3!}h^3+\\cdots.\n",
    "$$"
   ]
  },
  {
   "cell_type": "code",
   "execution_count": 2,
   "id": "fec36737",
   "metadata": {},
   "outputs": [],
   "source": [
    "from inspect import *\n",
    "def get_polynomial(function, x0, h,degree):\n",
    "    # parse function definition code\n",
    "\n",
    "    lines_list  = getsource(function).split(\"\\n\")\n",
    "    for line in lines_list:\n",
    "        if '=' in line:\n",
    "            func_def = line\n",
    "\n",
    "    elements = func_def.split('=')\n",
    "    line = ' '.join(elements[1:])\n",
    "    sympy_function = sympy.sympify(line)\n",
    "\n",
    "    # compute taylor expansion symbolically \n",
    "    i = 0\n",
    "    taylor_exp = sympy.Integer(0)\n",
    "    while i <= degree:\n",
    "        taylor_exp = taylor_exp + (sympy.diff(sympy_function,x,i).subs(x,x0))/(sympy.factorial(i))*(h)**i\n",
    "        i += 1\n",
    "    return taylor_exp"
   ]
  },
  {
   "cell_type": "code",
   "execution_count": 3,
   "id": "d426683e",
   "metadata": {},
   "outputs": [
    {
     "data": {
      "text/latex": [
       "$\\displaystyle \\frac{h^{3} \\frac{d^{3}}{d x^{3}} f{\\left(x \\right)}}{6} + \\frac{h^{2} \\frac{d^{2}}{d x^{2}} f{\\left(x \\right)}}{2} + h \\frac{d}{d x} f{\\left(x \\right)} + f{\\left(x \\right)}$"
      ],
      "text/plain": [
       "h**3*Derivative(f(x), (x, 3))/6 + h**2*Derivative(f(x), (x, 2))/2 + h*Derivative(f(x), x) + f(x)"
      ]
     },
     "execution_count": 3,
     "metadata": {},
     "output_type": "execute_result"
    }
   ],
   "source": [
    "x= sympy.Symbol('x')\n",
    "h= sympy.Symbol('h')\n",
    "\n",
    "def func_1(x):\n",
    "    func = f(x)\n",
    "    return func\n",
    "\n",
    "get_polynomial(func_1,x,h,3)"
   ]
  },
  {
   "cell_type": "code",
   "execution_count": 4,
   "id": "4ee13cdb",
   "metadata": {},
   "outputs": [
    {
     "data": {
      "text/latex": [
       "$\\displaystyle \\frac{9 h^{3} \\sin{\\left(x \\right)}}{2} - \\frac{9 h^{2} \\cos{\\left(x \\right)}}{2} - 3 h \\sin{\\left(x \\right)} + \\cos{\\left(x \\right)}$"
      ],
      "text/plain": [
       "9*h**3*sin(x)/2 - 9*h**2*cos(x)/2 - 3*h*sin(x) + cos(x)"
      ]
     },
     "execution_count": 4,
     "metadata": {},
     "output_type": "execute_result"
    }
   ],
   "source": [
    "x= sympy.Symbol('x')\n",
    "h= sympy.Symbol('h')\n",
    "\n",
    "def func_2(x):\n",
    "    func = cos(x)\n",
    "    return func\n",
    "\n",
    "get_polynomial(func_2,x,3*h,3)"
   ]
  },
  {
   "cell_type": "markdown",
   "id": "64f4a75f",
   "metadata": {},
   "source": [
    "# 2. Two dimensionals taylor series"
   ]
  },
  {
   "cell_type": "markdown",
   "id": "5e55bc5f",
   "metadata": {},
   "source": [
    "### Warming Up 1"
   ]
  },
  {
   "cell_type": "code",
   "execution_count": 5,
   "id": "f0783978",
   "metadata": {},
   "outputs": [
    {
     "data": {
      "text/latex": [
       "$\\displaystyle x \\sin{\\left(x^{2} \\right)} + 1$"
      ],
      "text/plain": [
       "x*sin(x**2) + 1"
      ]
     },
     "execution_count": 5,
     "metadata": {},
     "output_type": "execute_result"
    }
   ],
   "source": [
    "expr=x*sympy.sin(x*x)+1\n",
    "expr"
   ]
  },
  {
   "cell_type": "code",
   "execution_count": 6,
   "id": "708de98f",
   "metadata": {},
   "outputs": [
    {
     "data": {
      "text/latex": [
       "$\\displaystyle 2 x^{2} \\cos{\\left(x^{2} \\right)} + \\sin{\\left(x^{2} \\right)}$"
      ],
      "text/plain": [
       "2*x**2*cos(x**2) + sin(x**2)"
      ]
     },
     "execution_count": 6,
     "metadata": {},
     "output_type": "execute_result"
    }
   ],
   "source": [
    "sympy.diff(expr,x)"
   ]
  },
  {
   "cell_type": "code",
   "execution_count": 7,
   "id": "f3704571",
   "metadata": {},
   "outputs": [
    {
     "data": {
      "text/latex": [
       "$\\displaystyle - \\sin{\\left(x \\right)}$"
      ],
      "text/plain": [
       "-sin(x)"
      ]
     },
     "execution_count": 7,
     "metadata": {},
     "output_type": "execute_result"
    }
   ],
   "source": [
    "sympy.diff(sympy.cos(x),x,1)"
   ]
  },
  {
   "cell_type": "markdown",
   "id": "30001c24",
   "metadata": {},
   "source": [
    "### Warming Up 2"
   ]
  },
  {
   "cell_type": "code",
   "execution_count": 8,
   "id": "a84d0a8e",
   "metadata": {},
   "outputs": [
    {
     "name": "stdout",
     "output_type": "stream",
     "text": [
      "x**4\n",
      "4*x**3\n",
      "12*x**2\n",
      "24*x\n"
     ]
    }
   ],
   "source": [
    "for i in range(0,4): print (sympy.diff(x**4,x,i))"
   ]
  },
  {
   "cell_type": "code",
   "execution_count": 9,
   "id": "0df66568",
   "metadata": {},
   "outputs": [
    {
     "data": {
      "text/latex": [
       "$\\displaystyle x^{4} + 4 x^{3} + 12 x^{2} + 24 x$"
      ],
      "text/plain": [
       "x**4 + 4*x**3 + 12*x**2 + 24*x"
      ]
     },
     "execution_count": 9,
     "metadata": {},
     "output_type": "execute_result"
    }
   ],
   "source": [
    " sum([sympy.diff(x**4,x,i) for i in range(0,4)])"
   ]
  },
  {
   "cell_type": "markdown",
   "id": "8d6ca7ea",
   "metadata": {},
   "source": [
    "### Warming Up 3"
   ]
  },
  {
   "cell_type": "code",
   "execution_count": 10,
   "id": "423f8fe1",
   "metadata": {},
   "outputs": [
    {
     "data": {
      "text/latex": [
       "$\\displaystyle x^{4} + x y^{4}$"
      ],
      "text/plain": [
       "x**4 + x*y**4"
      ]
     },
     "execution_count": 10,
     "metadata": {},
     "output_type": "execute_result"
    }
   ],
   "source": [
    "#Derivatives of multivariable function\n",
    " \n",
    "x , y = sympy.symbols('x y')\n",
    "f =x**4+x*y**4\n",
    "f"
   ]
  },
  {
   "cell_type": "code",
   "execution_count": 11,
   "id": "6f06ac56",
   "metadata": {},
   "outputs": [
    {
     "data": {
      "text/latex": [
       "$\\displaystyle 4 x^{3} + y^{4}$"
      ],
      "text/plain": [
       "4*x**3 + y**4"
      ]
     },
     "execution_count": 11,
     "metadata": {},
     "output_type": "execute_result"
    }
   ],
   "source": [
    "#Differentiating partially w.r.t x\n",
    "derivative_f = f.diff(x)\n",
    "derivative_f"
   ]
  },
  {
   "cell_type": "code",
   "execution_count": 12,
   "id": "fd6ac9e1",
   "metadata": {},
   "outputs": [
    {
     "data": {
      "text/latex": [
       "$\\displaystyle 4 x y^{3}$"
      ],
      "text/plain": [
       "4*x*y**3"
      ]
     },
     "execution_count": 12,
     "metadata": {},
     "output_type": "execute_result"
    }
   ],
   "source": [
    "#Differentiating partially w.r.t y\n",
    "derivative_f = f.diff(y)\n",
    "derivative_f"
   ]
  },
  {
   "cell_type": "code",
   "execution_count": 13,
   "id": "cd901b54",
   "metadata": {},
   "outputs": [
    {
     "data": {
      "text/latex": [
       "$\\displaystyle 4 y^{3}$"
      ],
      "text/plain": [
       "4*y**3"
      ]
     },
     "execution_count": 13,
     "metadata": {},
     "output_type": "execute_result"
    }
   ],
   "source": [
    "#Differentiating partially w.r.t x and y\n",
    "derivative_f = f.diff(x,y)\n",
    "derivative_f"
   ]
  },
  {
   "cell_type": "code",
   "execution_count": 45,
   "id": "329195f3",
   "metadata": {},
   "outputs": [
    {
     "data": {
      "text/latex": [
       "$\\displaystyle x^{3} + 4 x y + x \\sin{\\left(z \\right)} + y z^{8}$"
      ],
      "text/plain": [
       "x**3 + 4*x*y + x*sin(z) + y*z**8"
      ]
     },
     "execution_count": 45,
     "metadata": {},
     "output_type": "execute_result"
    }
   ],
   "source": [
    ">>> from sympy import symbols, diff\n",
    ">>> x, y, z = symbols('x y z', real=True)\n",
    ">>> f = 4*x*y + x*sin(z) + x**3 + z**8*y\n",
    "f"
   ]
  },
  {
   "cell_type": "code",
   "execution_count": 47,
   "id": "493d2663",
   "metadata": {},
   "outputs": [
    {
     "data": {
      "text/latex": [
       "$\\displaystyle 3 x^{2} + 4 y + \\sin{\\left(z \\right)}$"
      ],
      "text/plain": [
       "3*x**2 + 4*y + sin(z)"
      ]
     },
     "execution_count": 47,
     "metadata": {},
     "output_type": "execute_result"
    }
   ],
   "source": [
    "diff(f, x)"
   ]
  },
  {
   "cell_type": "markdown",
   "id": "79d115d2",
   "metadata": {},
   "source": [
    "### Warming Up 4"
   ]
  },
  {
   "cell_type": "code",
   "execution_count": 14,
   "id": "07504374",
   "metadata": {},
   "outputs": [],
   "source": [
    "sympy_function=sympy.cos(x)\n",
    "i = 0\n",
    "degree=5\n",
    "x0=0\n",
    "taylor_exp = sympy.Integer(0)"
   ]
  },
  {
   "cell_type": "markdown",
   "id": "0fc5bb4d",
   "metadata": {},
   "source": [
    "$$\n",
    "f(x)= f(x_0)+f'(x_0)(x-x_0)+\\frac{f''(x_0)}{2!}(x-x_0)^2+ \\frac{f'''(x_0)}{3!}(x-x_0)^3+\\cdots,\n",
    "$$"
   ]
  },
  {
   "cell_type": "code",
   "execution_count": 15,
   "id": "563c0483",
   "metadata": {},
   "outputs": [
    {
     "data": {
      "text/latex": [
       "$\\displaystyle \\frac{x^{4}}{24} - \\frac{x^{2}}{2} + 1$"
      ],
      "text/plain": [
       "x**4/24 - x**2/2 + 1"
      ]
     },
     "execution_count": 15,
     "metadata": {},
     "output_type": "execute_result"
    }
   ],
   "source": [
    "sum([(sympy.diff(sympy_function,x,i).subs(x,x0))/(sympy.factorial(i))*(x-x0)**i for i in range(0,degree+1)])"
   ]
  },
  {
   "cell_type": "markdown",
   "id": "b6f3ba8f",
   "metadata": {},
   "source": [
    "$$\n",
    "f(x+h)= f(x)+f'(x)h+\\frac{f''(x)}{2!}h^2+ \\frac{f'''(x)}{3!}h^3+\\cdots.\n",
    "$$"
   ]
  },
  {
   "cell_type": "code",
   "execution_count": 16,
   "id": "194a76fb",
   "metadata": {},
   "outputs": [],
   "source": [
    "sympy_function=sympy.cos(x)\n",
    "i = 0\n",
    "degree=5\n",
    "h= sympy.Symbol('h')\n",
    "h=3*h\n",
    "taylor_exp = sympy.Integer(0)"
   ]
  },
  {
   "cell_type": "code",
   "execution_count": 17,
   "id": "659769cf",
   "metadata": {},
   "outputs": [
    {
     "data": {
      "text/latex": [
       "$\\displaystyle - \\frac{81 h^{5} \\sin{\\left(x \\right)}}{40} + \\frac{27 h^{4} \\cos{\\left(x \\right)}}{8} + \\frac{9 h^{3} \\sin{\\left(x \\right)}}{2} - \\frac{9 h^{2} \\cos{\\left(x \\right)}}{2} - 3 h \\sin{\\left(x \\right)} + \\cos{\\left(x \\right)}$"
      ],
      "text/plain": [
       "-81*h**5*sin(x)/40 + 27*h**4*cos(x)/8 + 9*h**3*sin(x)/2 - 9*h**2*cos(x)/2 - 3*h*sin(x) + cos(x)"
      ]
     },
     "execution_count": 17,
     "metadata": {},
     "output_type": "execute_result"
    }
   ],
   "source": [
    "sum([(sympy.diff(sympy_function,x,i))/(sympy.factorial(i))*(h)**i for i in range(0,degree+1)])"
   ]
  },
  {
   "cell_type": "markdown",
   "id": "b5263b60",
   "metadata": {},
   "source": [
    "### Warming Up 5"
   ]
  },
  {
   "attachments": {
    "image.png": {
     "image/png": "[encoded data removed]"
    }
   },
   "cell_type": "markdown",
   "id": "3be08cfc",
   "metadata": {},
   "source": [
    "![image.png](attachment:image.png)"
   ]
  },
  {
   "cell_type": "raw",
   "id": "ad975dc6",
   "metadata": {},
   "source": [
    "                            b\n",
    "                          ____\n",
    "                          \\   `\n",
    "summation(f, (i, a, b)) =  )    f\n",
    "                          /___,\n",
    "                          i = a"
   ]
  },
  {
   "cell_type": "code",
   "execution_count": 25,
   "id": "39482f58",
   "metadata": {},
   "outputs": [],
   "source": [
    "from sympy import summation, oo, symbols, log\n",
    "i, n, m = symbols('i n m', integer=True)"
   ]
  },
  {
   "cell_type": "code",
   "execution_count": 21,
   "id": "d0e262cc",
   "metadata": {},
   "outputs": [],
   "source": [
    "from sympy.abc import i, j"
   ]
  },
  {
   "cell_type": "code",
   "execution_count": 22,
   "id": "446a68bd",
   "metadata": {},
   "outputs": [
    {
     "data": {
      "text/latex": [
       "$\\displaystyle 2 i - 3$"
      ],
      "text/plain": [
       "2*i - 3"
      ]
     },
     "execution_count": 22,
     "metadata": {},
     "output_type": "execute_result"
    }
   ],
   "source": [
    "#Simgle summation\n",
    "summation(i - j, (j, 1, 2))"
   ]
  },
  {
   "cell_type": "code",
   "execution_count": 23,
   "id": "c1219a9a",
   "metadata": {},
   "outputs": [
    {
     "data": {
      "text/latex": [
       "$\\displaystyle 3$"
      ],
      "text/plain": [
       "3"
      ]
     },
     "execution_count": 23,
     "metadata": {},
     "output_type": "execute_result"
    }
   ],
   "source": [
    "#Double summation\n",
    "summation(summation(i - j, (j, 1, 2)), (i, 1, 3))"
   ]
  },
  {
   "cell_type": "markdown",
   "id": "79ea9377",
   "metadata": {},
   "source": [
    "### Warming Up 6"
   ]
  },
  {
   "cell_type": "markdown",
   "id": "583b61fd",
   "metadata": {},
   "source": [
    "where P and q are functions of z. How can I define P and q such that sp.diff(P, z) returns P' rather than 0?"
   ]
  },
  {
   "cell_type": "markdown",
   "id": "cbbe2e10",
   "metadata": {},
   "source": [
    "From what you wrote, sympy can't know P and q are functions of z, can it? So it's treating them as constants - just like all the other variables except z. Your expression does not mention z at all, so it is all a constant expression - and the derivation of a constant is 0, no exceptions.\n",
    "\n",
    "Make sure sympy knows P and q are functions of z. And obviously, it matters what those functions are - you can't just leave them blank. A square differentiates differently than a square root. If you don't know, sympy will do the best it can:"
   ]
  },
  {
   "cell_type": "code",
   "execution_count": 32,
   "id": "f68f9fcf",
   "metadata": {},
   "outputs": [],
   "source": [
    "import sympy as sp"
   ]
  },
  {
   "cell_type": "code",
   "execution_count": 33,
   "id": "801a660e",
   "metadata": {},
   "outputs": [
    {
     "data": {
      "text/latex": [
       "$\\displaystyle - i \\left(- \\frac{k \\left(x^{2} + y^{2}\\right) \\frac{d}{d z} q{\\left(z \\right)}}{2 q^{2}{\\left(z \\right)}} + \\frac{d}{d z} P{\\left(z \\right)}\\right) e^{- i \\left(\\frac{k \\left(x^{2} + y^{2}\\right)}{2 q{\\left(z \\right)}} + P{\\left(z \\right)}\\right)}$"
      ],
      "text/plain": [
       "-I*(-k*(x**2 + y**2)*Derivative(q(z), z)/(2*q(z)**2) + Derivative(P(z), z))*exp(-I*(k*(x**2 + y**2)/(2*q(z)) + P(z)))"
      ]
     },
     "execution_count": 33,
     "metadata": {},
     "output_type": "execute_result"
    }
   ],
   "source": [
    "x, y, z, k = sp.symbols('x y z k')\n",
    "P = sp.Function('P')\n",
    "q = sp.Function('q')\n",
    "expr = sp.exp(-sp.I*(P(z)+k/(2*q(z))*(x**2 + y**2)))\n",
    "sp.diff(expr, z)"
   ]
  },
  {
   "cell_type": "markdown",
   "id": "3f577af2",
   "metadata": {},
   "source": [
    "but if you do know, it can calculate it exactly:"
   ]
  },
  {
   "cell_type": "code",
   "execution_count": 35,
   "id": "38b7ded5",
   "metadata": {},
   "outputs": [
    {
     "data": {
      "text/latex": [
       "$\\displaystyle - i \\left(- \\frac{k \\left(x^{2} + y^{2}\\right)}{4 z^{\\frac{3}{2}}} + 2 z\\right) e^{- i \\left(\\frac{k \\left(x^{2} + y^{2}\\right)}{2 \\sqrt{z}} + z^{2}\\right)}$"
      ],
      "text/plain": [
       "-I*(-k*(x**2 + y**2)/(4*z**(3/2)) + 2*z)*exp(-I*(k*(x**2 + y**2)/(2*sqrt(z)) + z**2))"
      ]
     },
     "execution_count": 35,
     "metadata": {},
     "output_type": "execute_result"
    }
   ],
   "source": [
    "import sympy as sp\n",
    "x, y, z, k = sp.symbols('x y z k')\n",
    "P = sp.Lambda(z, z * z)\n",
    "q = sp.Lambda(z, sp.sqrt(z))\n",
    "expr = sp.exp(-sp.I*(P(z)+k/(2*q(z))*(x**2 + y**2)))\n",
    "sp.diff(expr, z)"
   ]
  },
  {
   "cell_type": "code",
   "execution_count": 36,
   "id": "4849129c",
   "metadata": {},
   "outputs": [
    {
     "data": {
      "text/latex": [
       "$\\displaystyle 2 z$"
      ],
      "text/plain": [
       "2*z"
      ]
     },
     "execution_count": 36,
     "metadata": {},
     "output_type": "execute_result"
    }
   ],
   "source": [
    "sp.diff(P(z), z)"
   ]
  },
  {
   "cell_type": "markdown",
   "id": "e0a57dbe",
   "metadata": {},
   "source": [
    "### Warming Up 7"
   ]
  },
  {
   "cell_type": "code",
   "execution_count": 38,
   "id": "de2ed1b4",
   "metadata": {},
   "outputs": [
    {
     "data": {
      "text/latex": [
       "$\\displaystyle - \\sin{\\left(y \\right)} - \\sin{\\left(z \\right)} \\cos{\\left(x \\right)}$"
      ],
      "text/plain": [
       "-sin(y) - sin(z)*cos(x)"
      ]
     },
     "execution_count": 38,
     "metadata": {},
     "output_type": "execute_result"
    }
   ],
   "source": [
    "from sympy import *\n",
    "\n",
    "x, y, z = symbols('x y z')\n",
    "X = Symbol('X')\n",
    "\n",
    "f = Function('f')\n",
    "df = f(x).diff(x)\n",
    "\n",
    "expr = f(x) * df.subs(x, z) + df.subs(x, y) + df.subs(x, 0)\n",
    "expr.replace(f, Lambda(X, cos(X))).doit()"
   ]
  },
  {
   "cell_type": "code",
   "execution_count": 39,
   "id": "01a44f80",
   "metadata": {},
   "outputs": [
    {
     "data": {
      "text/latex": [
       "$\\displaystyle - \\sin{\\left(y \\right)} - \\sin{\\left(z \\right)} \\cos{\\left(x \\right)}$"
      ],
      "text/plain": [
       "-sin(y) - sin(z)*cos(x)"
      ]
     },
     "execution_count": 39,
     "metadata": {},
     "output_type": "execute_result"
    }
   ],
   "source": [
    "from sympy import *\n",
    "\n",
    "x, y, z = symbols('x y z')\n",
    "X = Symbol('X')\n",
    "\n",
    "f = Function('f')\n",
    "df = lambda t: f(t).diff(t) if isinstance(t, Symbol) else f(X).diff(X).subs(X, t)\n",
    "\n",
    "expr = f(x) * df(z) + df(y) + df(0)\n",
    "expr.replace(f, Lambda(X, cos(X))).doit()"
   ]
  },
  {
   "cell_type": "markdown",
   "id": "d47fb45f",
   "metadata": {},
   "source": [
    "### Warming Up 8"
   ]
  },
  {
   "attachments": {
    "image.png": {
     "image/png": "[encoded data removed]"
    }
   },
   "cell_type": "markdown",
   "id": "3789ee1a",
   "metadata": {},
   "source": [
    "![image.png](attachment:image.png)"
   ]
  },
  {
   "cell_type": "markdown",
   "id": "61701f13",
   "metadata": {},
   "source": [
    "First, there is a difference between expressions and functions. For example, expr = sin(x) + cos(x) is an expression; it is not callable, meaning you can't do expr(y+1) or anything like that (you can do expr.subs(x, y+1), though).\n",
    "\n",
    "If you want something that looks like sin(x) + cos(x) but is a function, use Lambda (which is SymPy's version of Python's lambda)."
   ]
  },
  {
   "cell_type": "code",
   "execution_count": 56,
   "id": "ad82da5e",
   "metadata": {},
   "outputs": [
    {
     "data": {
      "text/latex": [
       "$\\displaystyle \\left( x \\mapsto \\sin{\\left(x \\right)} + \\cos{\\left(x \\right)} \\right)$"
      ],
      "text/plain": [
       "Lambda(x, sin(x) + cos(x))"
      ]
     },
     "execution_count": 56,
     "metadata": {},
     "output_type": "execute_result"
    }
   ],
   "source": [
    "f = Lambda(x, sin(x) + cos(x))\n",
    "f"
   ]
  },
  {
   "cell_type": "markdown",
   "id": "845edd68",
   "metadata": {},
   "source": [
    "Then f(y+1) is sin(y+1) + cos(y+1).\n",
    "\n",
    "In your notation, that would be"
   ]
  },
  {
   "cell_type": "code",
   "execution_count": 57,
   "id": "840e8e5c",
   "metadata": {},
   "outputs": [],
   "source": [
    "tau_1, tau_2, tau_3, x = symbols(\"tau_1, tau_2, tau_3, x\")\n",
    "delta = Function(\"delta\")\n",
    "f = Lambda(x, tau_1 + delta(x))\n",
    "g = Lambda(x, f(x + tau_2))"
   ]
  },
  {
   "cell_type": "code",
   "execution_count": 58,
   "id": "81b76773",
   "metadata": {},
   "outputs": [
    {
     "data": {
      "text/latex": [
       "$\\displaystyle \\left( x \\mapsto \\tau_{1} + \\delta{\\left(x \\right)} \\right)$"
      ],
      "text/plain": [
       "Lambda(x, tau_1 + delta(x))"
      ]
     },
     "execution_count": 58,
     "metadata": {},
     "output_type": "execute_result"
    }
   ],
   "source": [
    "f"
   ]
  },
  {
   "cell_type": "code",
   "execution_count": 59,
   "id": "4d4393fa",
   "metadata": {},
   "outputs": [
    {
     "data": {
      "text/latex": [
       "$\\displaystyle \\left( x \\mapsto \\tau_{1} + \\delta{\\left(\\tau_{2} + x \\right)} \\right)$"
      ],
      "text/plain": [
       "Lambda(x, tau_1 + delta(tau_2 + x))"
      ]
     },
     "execution_count": 59,
     "metadata": {},
     "output_type": "execute_result"
    }
   ],
   "source": [
    "g"
   ]
  },
  {
   "cell_type": "code",
   "execution_count": 60,
   "id": "960959b1",
   "metadata": {},
   "outputs": [
    {
     "data": {
      "text/latex": [
       "$\\displaystyle 0$"
      ],
      "text/plain": [
       "0"
      ]
     },
     "execution_count": 60,
     "metadata": {},
     "output_type": "execute_result"
    }
   ],
   "source": [
    "sp.diff(g, x)"
   ]
  },
  {
   "cell_type": "markdown",
   "id": "0f8c6193",
   "metadata": {},
   "source": [
    "### Warming Up 9"
   ]
  },
  {
   "cell_type": "markdown",
   "id": "a94b4979",
   "metadata": {},
   "source": [
    "Assuming I have an expression in sympy that I can differentiate with variable (e.g. enter image description here). This is a position expression and I am interested in differentiating it with respect to time to obtain the velocity. Using the following code:"
   ]
  },
  {
   "attachments": {
    "image.png": {
     "image/png": "[encoded data removed]"
    }
   },
   "cell_type": "markdown",
   "id": "62d3ab19",
   "metadata": {},
   "source": [
    "![image.png](attachment:image.png)"
   ]
  },
  {
   "cell_type": "code",
   "execution_count": 64,
   "id": "896bc618",
   "metadata": {},
   "outputs": [
    {
     "data": {
      "text/latex": [
       "$\\displaystyle r \\cos{\\left(\\theta{\\left(t \\right)} \\right)}$"
      ],
      "text/plain": [
       "r*cos(theta(t))"
      ]
     },
     "execution_count": 64,
     "metadata": {},
     "output_type": "execute_result"
    }
   ],
   "source": [
    "r = sp.symbols('r')\n",
    "t = sp.symbols('t')\n",
    "theta= sp.Function('theta')(t)\n",
    "params = {'r':1,'l':2, 'theta':2*t}\n",
    "dtheta = theta.diff(t)\n",
    "\n",
    "xB = r*sp.cos(theta) \n",
    "vB = xB.diff(t)\n",
    "xB"
   ]
  },
  {
   "cell_type": "code",
   "execution_count": 65,
   "id": "e2c63b26",
   "metadata": {},
   "outputs": [
    {
     "data": {
      "text/latex": [
       "$\\displaystyle - r \\sin{\\left(\\theta{\\left(t \\right)} \\right)} \\frac{d}{d t} \\theta{\\left(t \\right)}$"
      ],
      "text/plain": [
       "-r*sin(theta(t))*Derivative(theta(t), t)"
      ]
     },
     "execution_count": 65,
     "metadata": {},
     "output_type": "execute_result"
    }
   ],
   "source": [
    "vB"
   ]
  },
  {
   "cell_type": "code",
   "execution_count": 66,
   "id": "33605633",
   "metadata": {},
   "outputs": [
    {
     "data": {
      "text/latex": [
       "$\\displaystyle - 3.14 \\sin{\\left(3.14 t \\right)}$"
      ],
      "text/plain": [
       "-3.14*sin(3.14*t)"
      ]
     },
     "execution_count": 66,
     "metadata": {},
     "output_type": "execute_result"
    }
   ],
   "source": [
    "d = {r:1, theta:3.14 * t}\n",
    "vB.subs(d).doit()"
   ]
  },
  {
   "cell_type": "markdown",
   "id": "fb5ab3b3",
   "metadata": {},
   "source": [
    "### Warming Up 10"
   ]
  },
  {
   "cell_type": "code",
   "execution_count": 67,
   "id": "8ec402e4",
   "metadata": {},
   "outputs": [],
   "source": [
    "import sympy as sp\n",
    "\n",
    "x = sp.symbols('x')\n",
    "y = sp.symbols('y')\n",
    "z = sp.symbols('z')\n",
    "equation_one = sp.Eq(x, z + 2)\n",
    "equation_two = sp.Eq(y, x + 1)"
   ]
  },
  {
   "cell_type": "code",
   "execution_count": 68,
   "id": "fe90fe86",
   "metadata": {},
   "outputs": [
    {
     "data": {
      "text/latex": [
       "$\\displaystyle y = z + 3$"
      ],
      "text/plain": [
       "Eq(y, z + 3)"
      ]
     },
     "execution_count": 68,
     "metadata": {},
     "output_type": "execute_result"
    }
   ],
   "source": [
    "equation_two.subs(equation_one.lhs,equation_one.rhs)"
   ]
  },
  {
   "cell_type": "code",
   "execution_count": 69,
   "id": "0c8e8a57",
   "metadata": {},
   "outputs": [
    {
     "name": "stdout",
     "output_type": "stream",
     "text": [
      "[1.04635456]\n"
     ]
    }
   ],
   "source": [
    "from sympy import symbols, Eq, solve, sin, sqrt\n",
    "from scipy.optimize import fsolve\n",
    "\n",
    "\n",
    "x = symbols('x')\n",
    "D = symbols('d')\n",
    "C = symbols('c')\n",
    "\n",
    "eq1 = 2*sin(x)+sqrt(1-(sin(x))**2)+D*sin(x/2)-sin(2*x)-1-C\n",
    "\n",
    "values = {\n",
    "    C: 500,\n",
    "    D: 1000\n",
    "}\n",
    "\n",
    "eq1_in_x = eq1.subs(values)\n",
    "\n",
    "def f(y):\n",
    "    return float(eq1_in_x.subs(x,y[0]))\n",
    "\n",
    "sol = fsolve(f,1) # Here, 1 is an initial guess.\n",
    "print(sol)"
   ]
  },
  {
   "cell_type": "code",
   "execution_count": 70,
   "id": "d9bd02d2",
   "metadata": {},
   "outputs": [
    {
     "name": "stdout",
     "output_type": "stream",
     "text": [
      "{x: -4693/4, y: 1501/4}\n"
     ]
    }
   ],
   "source": [
    "from sympy import symbols\n",
    "from sympy.solvers import solve\n",
    "x,y,z = symbols('x y z')\n",
    "\n",
    "expression1 = x + y + 8*z - 2\n",
    "expression2 = 2*x + 6*y + z - 5\n",
    "expression1 = expression1.subs(z,100)\n",
    "expression2 = expression2.subs(z,100)\n",
    "\n",
    "solution = solve([expression1, expression2], [x, y])\n",
    "print(solution)"
   ]
  },
  {
   "cell_type": "code",
   "execution_count": 76,
   "id": "e8ce2436",
   "metadata": {},
   "outputs": [
    {
     "data": {
      "text/plain": [
       "[-sqrt(2), sqrt(2)]"
      ]
     },
     "execution_count": 76,
     "metadata": {},
     "output_type": "execute_result"
    }
   ],
   "source": [
    "from sympy import symbols, solve\n",
    "solve(x**2 - 2, x)"
   ]
  },
  {
   "cell_type": "code",
   "execution_count": 79,
   "id": "567cda31",
   "metadata": {},
   "outputs": [
    {
     "data": {
      "text/latex": [
       "$\\displaystyle 20 - \\frac{x}{2}$"
      ],
      "text/plain": [
       "20 - x/2"
      ]
     },
     "execution_count": 79,
     "metadata": {},
     "output_type": "execute_result"
    }
   ],
   "source": [
    "m=40\n",
    "pa=1\n",
    "pb=2\n",
    "\n",
    "x, y = symbols('x, y')\n",
    "eq = pa*x+pb*y-m\n",
    "soly = solve(eq, y)\n",
    "soly[0]"
   ]
  },
  {
   "cell_type": "code",
   "execution_count": 81,
   "id": "535d97a2",
   "metadata": {},
   "outputs": [
    {
     "data": {
      "text/latex": [
       "$\\displaystyle 19$"
      ],
      "text/plain": [
       "19"
      ]
     },
     "execution_count": 81,
     "metadata": {},
     "output_type": "execute_result"
    }
   ],
   "source": [
    "soly[0].subs(x, 2)"
   ]
  },
  {
   "cell_type": "code",
   "execution_count": 87,
   "id": "be82223c",
   "metadata": {},
   "outputs": [
    {
     "data": {
      "image/png": "[encoded data removed]",
      "text/latex": [
       "$\\displaystyle \\frac{d}{d z} \\left(f{\\left(z \\right)} + \\frac{d}{d z} f{\\left(z \\right)}\\right)$"
      ],
      "text/plain": [
       "d ⎛       d       ⎞\n",
       "──⎜f(z) + ──(f(z))⎟\n",
       "dz⎝       dz      ⎠"
      ]
     },
     "execution_count": 87,
     "metadata": {},
     "output_type": "execute_result"
    }
   ],
   "source": [
    "import sympy\n",
    "z = sympy.Symbol('z')\n",
    "f = sympy.Function(\"f\")(z)\n",
    "expr = sympy.Derivative(sympy.Derivative(f) + f)\n",
    "expr"
   ]
  },
  {
   "cell_type": "code",
   "execution_count": 88,
   "id": "81a2de75",
   "metadata": {},
   "outputs": [
    {
     "data": {
      "image/png": "[encoded data removed]",
      "text/latex": [
       "$\\displaystyle \\frac{d}{d z} f{\\left(z \\right)} + \\frac{d^{2}}{d z^{2}} f{\\left(z \\right)}$"
      ],
      "text/plain": [
       "             2      \n",
       "d           d       \n",
       "──(f(z)) + ───(f(z))\n",
       "dz           2      \n",
       "           dz       "
      ]
     },
     "execution_count": 88,
     "metadata": {},
     "output_type": "execute_result"
    }
   ],
   "source": [
    "expr.doit()"
   ]
  },
  {
   "cell_type": "markdown",
   "id": "0f437742",
   "metadata": {},
   "source": [
    "### Warming Up 11"
   ]
  },
  {
   "cell_type": "code",
   "execution_count": 99,
   "id": "01b11196",
   "metadata": {},
   "outputs": [
    {
     "data": {
      "image/png": "[encoded data removed]",
      "text/latex": [
       "$\\displaystyle \\sum_{i=0}^{n} \\left(a + m x{\\left(i \\right)} - y{\\left(i \\right)}\\right)^{2}$"
      ],
      "text/plain": [
       "  n                       \n",
       " ___                      \n",
       " ╲                        \n",
       "  ╲                      2\n",
       "  ╱   (a + m⋅x(i) - y(i)) \n",
       " ╱                        \n",
       " ‾‾‾                      \n",
       "i = 0                     "
      ]
     },
     "execution_count": 99,
     "metadata": {},
     "output_type": "execute_result"
    }
   ],
   "source": [
    "from sympy import *\n",
    "m, a, i, n = symbols('m a i n')\n",
    "x, y = symbols('x y', cls=Function)\n",
    "err = summation((m * x(i) + a - y(i)) ** 2, (i, 0, n))\n",
    "err"
   ]
  },
  {
   "cell_type": "code",
   "execution_count": 100,
   "id": "3c4aac2e",
   "metadata": {},
   "outputs": [
    {
     "data": {
      "image/png": "[encoded data removed]",
      "text/latex": [
       "$\\displaystyle \\sum_{i=0}^{n} 2 \\left(a + m x{\\left(i \\right)} - y{\\left(i \\right)}\\right) x{\\left(i \\right)}$"
      ],
      "text/plain": [
       "  n                             \n",
       " ___                            \n",
       " ╲                              \n",
       "  ╲                             \n",
       "  ╱   2⋅(a + m⋅x(i) - y(i))⋅x(i)\n",
       " ╱                              \n",
       " ‾‾‾                            \n",
       "i = 0                           "
      ]
     },
     "execution_count": 100,
     "metadata": {},
     "output_type": "execute_result"
    }
   ],
   "source": [
    "diff(err, m)"
   ]
  },
  {
   "cell_type": "code",
   "execution_count": 101,
   "id": "6c315ab4",
   "metadata": {},
   "outputs": [
    {
     "data": {
      "image/png": "[encoded data removed]",
      "text/latex": [
       "$\\displaystyle \\sum_{i=0}^{n} \\left(2 a + 2 m x{\\left(i \\right)} - 2 y{\\left(i \\right)}\\right)$"
      ],
      "text/plain": [
       "  n                            \n",
       " ___                           \n",
       " ╲                             \n",
       "  ╲                            \n",
       "  ╱   (2⋅a + 2⋅m⋅x(i) - 2⋅y(i))\n",
       " ╱                             \n",
       " ‾‾‾                           \n",
       "i = 0                          "
      ]
     },
     "execution_count": 101,
     "metadata": {},
     "output_type": "execute_result"
    }
   ],
   "source": [
    "diff(err, a)"
   ]
  },
  {
   "cell_type": "markdown",
   "id": "5ad5e251",
   "metadata": {},
   "source": [
    "$$\n",
    "f(\\mu) = \\sum_{i = 1}^{n} (x_i - \\mu)^2\n",
    "$$"
   ]
  },
  {
   "cell_type": "code",
   "execution_count": 106,
   "id": "57b0bd34",
   "metadata": {},
   "outputs": [],
   "source": [
    "m,i,n = symbols('m i n')\n",
    "x = symbols('x', cls=Function)\n",
    "f_mu = summation((x(i)-m) ** 2, (i, 1, n))"
   ]
  },
  {
   "cell_type": "code",
   "execution_count": 107,
   "id": "0f8e64d2",
   "metadata": {},
   "outputs": [
    {
     "data": {
      "image/png": "[encoded data removed]",
      "text/latex": [
       "$\\displaystyle \\sum_{i=1}^{n} \\left(- m + x{\\left(i \\right)}\\right)^{2}$"
      ],
      "text/plain": [
       "  n               \n",
       " ___              \n",
       " ╲                \n",
       "  ╲              2\n",
       "  ╱   (-m + x(i)) \n",
       " ╱                \n",
       " ‾‾‾              \n",
       "i = 1             "
      ]
     },
     "execution_count": 107,
     "metadata": {},
     "output_type": "execute_result"
    }
   ],
   "source": [
    "f_mu"
   ]
  },
  {
   "cell_type": "code",
   "execution_count": 110,
   "id": "92e9af30",
   "metadata": {},
   "outputs": [
    {
     "data": {
      "image/png": "[encoded data removed]",
      "text/latex": [
       "$\\displaystyle 2 \\sum_{i=1}^{n} \\left(m - x{\\left(i \\right)}\\right)$"
      ],
      "text/plain": [
       "    n             \n",
       "   ___            \n",
       "   ╲              \n",
       "    ╲             \n",
       "2⋅  ╱   (m - x(i))\n",
       "   ╱              \n",
       "   ‾‾‾            \n",
       "  i = 1           "
      ]
     },
     "execution_count": 110,
     "metadata": {},
     "output_type": "execute_result"
    }
   ],
   "source": [
    "diff(err, m).simplify()"
   ]
  },
  {
   "cell_type": "code",
   "execution_count": 111,
   "id": "735fe675",
   "metadata": {},
   "outputs": [
    {
     "data": {
      "image/png": "[encoded data removed]",
      "text/latex": [
       "$\\displaystyle 2 n$"
      ],
      "text/plain": [
       "2⋅n"
      ]
     },
     "execution_count": 111,
     "metadata": {},
     "output_type": "execute_result"
    }
   ],
   "source": [
    "diff(err, m, 2 ).simplify()"
   ]
  },
  {
   "cell_type": "markdown",
   "id": "27776319",
   "metadata": {},
   "source": [
    "### Warming Up 12"
   ]
  },
  {
   "cell_type": "code",
   "execution_count": 121,
   "id": "e0301dd2",
   "metadata": {},
   "outputs": [
    {
     "data": {
      "image/png": "[encoded data removed]",
      "text/latex": [
       "$\\displaystyle \\cos{\\left(3 \\right)} + 2$"
      ],
      "text/plain": [
       "cos(3) + 2"
      ]
     },
     "execution_count": 121,
     "metadata": {},
     "output_type": "execute_result"
    }
   ],
   "source": [
    "x = cos(3)\n",
    "eq = x + 2\n",
    "eq"
   ]
  },
  {
   "cell_type": "code",
   "execution_count": 122,
   "id": "61407619",
   "metadata": {},
   "outputs": [
    {
     "data": {
      "image/png": "[encoded data removed]",
      "text/latex": [
       "$\\displaystyle x + 2$"
      ],
      "text/plain": [
       "x + 2"
      ]
     },
     "execution_count": 122,
     "metadata": {},
     "output_type": "execute_result"
    }
   ],
   "source": [
    "x = Symbol('x')\n",
    "eq = x + 2\n",
    "eq"
   ]
  },
  {
   "cell_type": "code",
   "execution_count": 126,
   "id": "12ae441c",
   "metadata": {},
   "outputs": [
    {
     "data": {
      "image/png": "[encoded data removed]",
      "text/latex": [
       "$\\displaystyle A X + B U$"
      ],
      "text/plain": [
       "A⋅X + B⋅U"
      ]
     },
     "execution_count": 126,
     "metadata": {},
     "output_type": "execute_result"
    }
   ],
   "source": [
    "A,B,X,U = symbols('A B X U')\n",
    "ax = Mul(A, X, evaluate=False)\n",
    "bu = Mul(B, U, evaluate=False)\n",
    "eq = Add(ax, bu, evaluate=False)\n",
    "eq"
   ]
  },
  {
   "cell_type": "code",
   "execution_count": 124,
   "id": "3aa0c5d7",
   "metadata": {},
   "outputs": [
    {
     "data": {
      "image/png": "[encoded data removed]",
      "text/latex": [
       "$\\displaystyle 3 A x + B \\left(x^{2} + x\\right)$"
      ],
      "text/plain": [
       "          ⎛ 2    ⎞\n",
       "3⋅A⋅x + B⋅⎝x  + x⎠"
      ]
     },
     "execution_count": 124,
     "metadata": {},
     "output_type": "execute_result"
    }
   ],
   "source": [
    "eq.subs({U:x+x**2, X:3*x})"
   ]
  },
  {
   "cell_type": "code",
   "execution_count": 125,
   "id": "cd457221",
   "metadata": {},
   "outputs": [
    {
     "data": {
      "image/png": "[encoded data removed]",
      "text/latex": [
       "$\\displaystyle 3 A x + B x^{2} + B x$"
      ],
      "text/plain": [
       "           2      \n",
       "3⋅A⋅x + B⋅x  + B⋅x"
      ]
     },
     "execution_count": 125,
     "metadata": {},
     "output_type": "execute_result"
    }
   ],
   "source": [
    "expand(_)"
   ]
  },
  {
   "cell_type": "markdown",
   "id": "f2fc68b8",
   "metadata": {},
   "source": [
    "### Warming Up 13"
   ]
  },
  {
   "cell_type": "code",
   "execution_count": 127,
   "id": "08e1ad43",
   "metadata": {},
   "outputs": [
    {
     "data": {
      "image/png": "[encoded data removed]",
      "text/latex": [
       "$\\displaystyle 2$"
      ],
      "text/plain": [
       "2"
      ]
     },
     "execution_count": 127,
     "metadata": {},
     "output_type": "execute_result"
    }
   ],
   "source": [
    "f = lambdify([x, y], x + y)\n",
    "f(1, 1)"
   ]
  },
  {
   "cell_type": "code",
   "execution_count": 128,
   "id": "b9fa51bb",
   "metadata": {},
   "outputs": [
    {
     "name": "stdout",
     "output_type": "stream",
     "text": [
      "f(2, y)\n",
      "Expr(3*y)\n",
      "6\n"
     ]
    }
   ],
   "source": [
    "import  sympy as sp\n",
    "\n",
    "x, y = sp.symbols('x y')\n",
    "\n",
    "# function\n",
    "f = sp.symbols('f', cls=sp.Function)\n",
    "f_eval = f(x, y)\n",
    "print(f_eval.subs(x, 2))\n",
    "\n",
    "# expression\n",
    "expr = sp.Expr(x*y)\n",
    "print(expr.subs(x, 3))\n",
    "\n",
    "# lambdify\n",
    "f = sp.lambdify(args=[x, y], expr=x*y)\n",
    "print(f(2, 3))"
   ]
  },
  {
   "cell_type": "markdown",
   "id": "bb54627f",
   "metadata": {},
   "source": [
    "sympy.Function is for undefined functions. Like if f = Function('f') then f(x) remains unevaluated in expressions.\n",
    "If you want an actual function (like if you do f(1) it evaluates x**2 + 1 at x=1, you can use a Python function"
   ]
  },
  {
   "cell_type": "code",
   "execution_count": 129,
   "id": "e7382102",
   "metadata": {},
   "outputs": [
    {
     "data": {
      "image/png": "[encoded data removed]",
      "text/latex": [
       "$\\displaystyle 2 x$"
      ],
      "text/plain": [
       "2⋅x"
      ]
     },
     "execution_count": 129,
     "metadata": {},
     "output_type": "execute_result"
    }
   ],
   "source": [
    "import sympy\n",
    "x = sympy.symbols('x')\n",
    "f = x**2 + 1\n",
    "sympy.diff(f, x)"
   ]
  },
  {
   "cell_type": "code",
   "execution_count": 131,
   "id": "5b18d1c8",
   "metadata": {},
   "outputs": [
    {
     "data": {
      "image/png": "[encoded data removed]",
      "text/latex": [
       "$\\displaystyle 3 f$"
      ],
      "text/plain": [
       "3⋅f"
      ]
     },
     "execution_count": 131,
     "metadata": {},
     "output_type": "execute_result"
    }
   ],
   "source": [
    "from sympy import symbols, exp\n",
    "\n",
    "x, f = symbols('x, f')\n",
    "expr = 6 * exp(x)\n",
    "f_func = 2 * exp(x)\n",
    "\n",
    "expr.subs({f_func: f})"
   ]
  },
  {
   "cell_type": "code",
   "execution_count": 137,
   "id": "e718f30b",
   "metadata": {},
   "outputs": [
    {
     "data": {
      "image/png": "[encoded data removed]",
      "text/latex": [
       "$\\displaystyle \\frac{N^{3}}{3} + \\frac{N^{2}}{2} + \\frac{N}{6}$"
      ],
      "text/plain": [
       " 3    2    \n",
       "N    N    N\n",
       "── + ── + ─\n",
       "3    2    6"
      ]
     },
     "execution_count": 137,
     "metadata": {},
     "output_type": "execute_result"
    }
   ],
   "source": [
    "n = Symbol('n', real=True)\n",
    "\n",
    "N = Symbol('N', real=True)\n",
    "\n",
    "summation(n**2, (n, 1, N)) # sum n**2 taking n from 1 to N"
   ]
  },
  {
   "cell_type": "code",
   "execution_count": 138,
   "id": "6c2f80a0",
   "metadata": {},
   "outputs": [
    {
     "data": {
      "image/png": "[encoded data removed]",
      "text/latex": [
       "$\\displaystyle \\left[ 5\\right]$"
      ],
      "text/plain": [
       "[5]"
      ]
     },
     "execution_count": 138,
     "metadata": {},
     "output_type": "execute_result"
    }
   ],
   "source": [
    "solve(summation(n**2, (n, 1, N)) - 55, N)"
   ]
  },
  {
   "attachments": {
    "image.png": {
     "image/png": "[encoded data removed]"
    }
   },
   "cell_type": "markdown",
   "id": "0b75bddc",
   "metadata": {},
   "source": [
    "![image.png](attachment:image.png)"
   ]
  },
  {
   "cell_type": "code",
   "execution_count": 139,
   "id": "e3b90119",
   "metadata": {},
   "outputs": [],
   "source": [
    "from sympy import summation, symbols, solve, Function, Sum\n",
    "\n",
    "alpha, C, t, i = symbols('alpha, C, t, i')\n",
    "x = Function('x')\n",
    "\n",
    "s1 = Sum(alpha**i * x(t-i), (i, 0, t)) / Sum(alpha**i, (i, 0, t))\n",
    "s2 = Sum(alpha**i * x(t-3-i), (i, 0, t-3)) / Sum(alpha**i, (i, 0, t-3)) \n",
    "rhs = (x(0) + alpha * x(1) + alpha**(2) * x(2))  / (1 + alpha + alpha**(2))"
   ]
  },
  {
   "cell_type": "code",
   "execution_count": 140,
   "id": "b37a4fab",
   "metadata": {},
   "outputs": [
    {
     "data": {
      "image/png": "[encoded data removed]",
      "text/latex": [
       "$\\displaystyle \\frac{\\sum_{i=0}^{t} \\alpha^{i} x{\\left(- i + t \\right)}}{\\sum_{i=0}^{t} \\alpha^{i}}$"
      ],
      "text/plain": [
       "  t               \n",
       " ___              \n",
       " ╲                \n",
       "  ╲    i          \n",
       "  ╱   α ⋅x(-i + t)\n",
       " ╱                \n",
       " ‾‾‾              \n",
       "i = 0             \n",
       "──────────────────\n",
       "       t          \n",
       "      ___         \n",
       "      ╲           \n",
       "       ╲    i     \n",
       "       ╱   α      \n",
       "      ╱           \n",
       "      ‾‾‾         \n",
       "     i = 0        "
      ]
     },
     "execution_count": 140,
     "metadata": {},
     "output_type": "execute_result"
    }
   ],
   "source": [
    "s1"
   ]
  },
  {
   "cell_type": "code",
   "execution_count": 141,
   "id": "d91462e8",
   "metadata": {},
   "outputs": [
    {
     "data": {
      "image/png": "[encoded data removed]",
      "text/latex": [
       "$\\displaystyle \\frac{\\alpha^{2} x{\\left(2 \\right)} + \\alpha x{\\left(1 \\right)} + x{\\left(0 \\right)}}{\\alpha^{2} + \\alpha + 1}$"
      ],
      "text/plain": [
       " 2                     \n",
       "α ⋅x(2) + α⋅x(1) + x(0)\n",
       "───────────────────────\n",
       "        2              \n",
       "       α  + α + 1      "
      ]
     },
     "execution_count": 141,
     "metadata": {},
     "output_type": "execute_result"
    }
   ],
   "source": [
    "rhs"
   ]
  },
  {
   "cell_type": "code",
   "execution_count": 142,
   "id": "460fee39",
   "metadata": {},
   "outputs": [
    {
     "data": {
      "text/latex": [
       "$\\displaystyle \\left[ \\frac{\\left(- \\frac{\\alpha^{2} x{\\left(2 \\right)}}{\\alpha^{2} + \\alpha + 1} - \\frac{\\alpha x{\\left(1 \\right)} + x{\\left(0 \\right)}}{\\alpha^{2} + \\alpha + 1} + \\left(\\begin{cases} \\frac{1}{t + 1} & \\text{for}\\: \\alpha = 1 \\\\\\frac{1 - \\alpha}{1 - \\alpha^{t + 1}} & \\text{otherwise} \\end{cases}\\right) \\sum_{i=0}^{t} \\alpha^{i} x{\\left(- i + t \\right)}\\right) \\left(\\begin{cases} t - 2 & \\text{for}\\: \\alpha = 1 \\\\\\frac{1 - \\alpha^{t - 2}}{1 - \\alpha} & \\text{otherwise} \\end{cases}\\right)}{\\sum_{i=0}^{t - 3} \\alpha^{i} x{\\left(- i + t - 3 \\right)}}\\right]$"
      ],
      "text/plain": [
       "⎡⎛                               ⎛⎧    1                ⎞   t               ⎞ \n",
       "⎢⎜                               ⎜⎪  ─────     for α = 1⎟  ___              ⎟ \n",
       "⎢⎜    2                          ⎜⎪  t + 1              ⎟  ╲                ⎟ \n",
       "⎢⎜   α ⋅x(2)     α⋅x(1) + x(0)   ⎜⎪                     ⎟   ╲    i          ⎟ \n",
       "⎢⎜- ────────── - ───────────── + ⎜⎨  1 - α              ⎟⋅  ╱   α ⋅x(-i + t)⎟⋅\n",
       "⎢⎜   2              2            ⎜⎪──────────  otherwise⎟  ╱                ⎟ \n",
       "⎢⎜  α  + α + 1     α  + α + 1    ⎜⎪     t + 1           ⎟  ‾‾‾              ⎟ \n",
       "⎢⎜                               ⎜⎪1 - α                ⎟ i = 0             ⎟ \n",
       "⎢⎝                               ⎝⎩                     ⎠                   ⎠ \n",
       "⎢─────────────────────────────────────────────────────────────────────────────\n",
       "⎢                                        t - 3                                \n",
       "⎢                                         ___                                 \n",
       "⎢                                         ╲                                   \n",
       "⎢                                          ╲    i                             \n",
       "⎢                                          ╱   α ⋅x(-i + t - 3)               \n",
       "⎢                                         ╱                                   \n",
       "⎢                                         ‾‾‾                                 \n",
       "⎣                                        i = 0                                \n",
       "\n",
       "                        ⎤\n",
       "⎛⎧  t - 2     for α = 1⎞⎥\n",
       "⎜⎪                     ⎟⎥\n",
       "⎜⎪     t - 2           ⎟⎥\n",
       "⎜⎨1 - α                ⎟⎥\n",
       "⎜⎪──────────  otherwise⎟⎥\n",
       "⎜⎪  1 - α              ⎟⎥\n",
       "⎝⎩                     ⎠⎥\n",
       "                        ⎥\n",
       "────────────────────────⎥\n",
       "                        ⎥\n",
       "                        ⎥\n",
       "                        ⎥\n",
       "                        ⎥\n",
       "                        ⎥\n",
       "                        ⎥\n",
       "                        ⎥\n",
       "                        ⎦"
      ]
     },
     "execution_count": 142,
     "metadata": {},
     "output_type": "execute_result"
    }
   ],
   "source": [
    "soln_C = solve(s1 - C*s2 - rhs, C)\n",
    "soln_C"
   ]
  },
  {
   "attachments": {
    "image.png": {
     "image/png": "[encoded data removed]"
    }
   },
   "cell_type": "markdown",
   "id": "04a271af",
   "metadata": {},
   "source": [
    "![image.png](attachment:image.png)"
   ]
  },
  {
   "cell_type": "code",
   "execution_count": 144,
   "id": "a30a0caf",
   "metadata": {},
   "outputs": [
    {
     "data": {
      "image/png": "[encoded data removed]",
      "text/latex": [
       "$\\displaystyle \\sum_{n=0}^{\\infty} \\left(\\frac{i}{3}\\right)^{n}$"
      ],
      "text/plain": [
       "  ∞       \n",
       " ____     \n",
       " ╲        \n",
       "  ╲      n\n",
       "   ╲  ⎛ⅈ⎞ \n",
       "   ╱  ⎜─⎟ \n",
       "  ╱   ⎝3⎠ \n",
       " ╱        \n",
       " ‾‾‾‾     \n",
       "n = 0     "
      ]
     },
     "execution_count": 144,
     "metadata": {},
     "output_type": "execute_result"
    }
   ],
   "source": [
    ">>> from sympy import I, oo, Sum, exp, pi\n",
    ">>> from sympy.abc import n\n",
    ">>> Sum((I/3)**n,(n,0,oo))"
   ]
  },
  {
   "cell_type": "code",
   "execution_count": 145,
   "id": "63079547",
   "metadata": {},
   "outputs": [
    {
     "data": {
      "image/png": "[encoded data removed]",
      "text/latex": [
       "$\\displaystyle \\frac{9}{10} + \\frac{3 i}{10}$"
      ],
      "text/plain": [
       "9    3⋅ⅈ\n",
       "── + ───\n",
       "10    10"
      ]
     },
     "execution_count": 145,
     "metadata": {},
     "output_type": "execute_result"
    }
   ],
   "source": [
    "Sum((I/3)**n,(n,0,oo)).doit()"
   ]
  },
  {
   "cell_type": "code",
   "execution_count": 146,
   "id": "a06a1a3e",
   "metadata": {},
   "outputs": [
    {
     "data": {
      "image/png": "[encoded data removed]",
      "text/latex": [
       "$\\displaystyle \\sum_{n=0}^{\\infty} 2^{- n} e^{\\frac{i \\pi n}{2}}$"
      ],
      "text/plain": [
       "  ∞             \n",
       " ____           \n",
       " ╲              \n",
       "  ╲        ⅈ⋅π⋅n\n",
       "   ╲       ─────\n",
       "   ╱   -n    2  \n",
       "  ╱   2  ⋅ℯ     \n",
       " ╱              \n",
       " ‾‾‾‾           \n",
       "n = 0           "
      ]
     },
     "execution_count": 146,
     "metadata": {},
     "output_type": "execute_result"
    }
   ],
   "source": [
    "Sum(exp(I*pi*n/2)/2**n,(n,0,oo)).doit()"
   ]
  },
  {
   "cell_type": "code",
   "execution_count": 147,
   "id": "b43fe958",
   "metadata": {},
   "outputs": [
    {
     "data": {
      "image/png": "[encoded data removed]",
      "text/latex": [
       "$\\displaystyle 0.8 + 0.4 i$"
      ],
      "text/plain": [
       "0.8 + 0.4⋅ⅈ"
      ]
     },
     "execution_count": 147,
     "metadata": {},
     "output_type": "execute_result"
    }
   ],
   "source": [
    "_.n()"
   ]
  },
  {
   "cell_type": "markdown",
   "id": "71831c57",
   "metadata": {},
   "source": [
    "The _.n() means \"evaluate the last output numerically.\" \"n\" is a method that evaluates an expression numerically (if possible), e.g. pi.n(2) -> 3.14."
   ]
  },
  {
   "attachments": {
    "image.png": {
     "image/png": "[encoded data removed]"
    }
   },
   "cell_type": "markdown",
   "id": "8309ca20",
   "metadata": {},
   "source": [
    "![image.png](attachment:image.png)"
   ]
  },
  {
   "cell_type": "code",
   "execution_count": 174,
   "id": "f72573e5",
   "metadata": {},
   "outputs": [],
   "source": [
    "from sympy import symbols, Matrix, Sum\n",
    "\n",
    "n = symbols('n', integer=True, nonnegative=True)\n",
    "expr = n**3 + 2 * n**2 + 3 * n         # f(n)\n",
    "matrix = Matrix([1, 234, 56, 7, 890])   # A_n"
   ]
  },
  {
   "cell_type": "code",
   "execution_count": 175,
   "id": "1ee79bb7",
   "metadata": {},
   "outputs": [
    {
     "data": {
      "image/png": "[encoded data removed]",
      "text/latex": [
       "$\\displaystyle n^{3} + 2 n^{2} + 3 n$"
      ],
      "text/plain": [
       " 3      2      \n",
       "n  + 2⋅n  + 3⋅n"
      ]
     },
     "execution_count": 175,
     "metadata": {},
     "output_type": "execute_result"
    }
   ],
   "source": [
    "expr"
   ]
  },
  {
   "cell_type": "code",
   "execution_count": 176,
   "id": "782eb50b",
   "metadata": {},
   "outputs": [
    {
     "data": {
      "text/latex": [
       "$\\displaystyle \\left[\\begin{matrix}1\\\\234\\\\56\\\\7\\\\890\\end{matrix}\\right]$"
      ],
      "text/plain": [
       "⎡ 1 ⎤\n",
       "⎢   ⎥\n",
       "⎢234⎥\n",
       "⎢   ⎥\n",
       "⎢56 ⎥\n",
       "⎢   ⎥\n",
       "⎢ 7 ⎥\n",
       "⎢   ⎥\n",
       "⎣890⎦"
      ]
     },
     "execution_count": 176,
     "metadata": {},
     "output_type": "execute_result"
    }
   ],
   "source": [
    "matrix"
   ]
  },
  {
   "cell_type": "code",
   "execution_count": 179,
   "id": "6827a6eb",
   "metadata": {},
   "outputs": [],
   "source": [
    "result = Sum(matrix[n, 0] * expr, (n, 0, 4))"
   ]
  },
  {
   "cell_type": "code",
   "execution_count": 180,
   "id": "0cb03a5f",
   "metadata": {},
   "outputs": [
    {
     "data": {
      "text/latex": [
       "$\\displaystyle \\sum_{n=0}^{4} \\left(n^{3} + 2 n^{2} + 3 n\\right) \\left[\\begin{matrix}1\\\\234\\\\56\\\\7\\\\890\\end{matrix}\\right]_{n, 0}$"
      ],
      "text/plain": [
       "   4                                   \n",
       "_______                                \n",
       "╲                                      \n",
       " ╲                                     \n",
       "  ╲                       ⎛⎡ 1 ⎤⎞      \n",
       "   ╲                      ⎜⎢   ⎥⎟      \n",
       "    ╲                     ⎜⎢234⎥⎟      \n",
       "     ╲  ⎛ 3      2      ⎞ ⎜⎢   ⎥⎟      \n",
       "     ╱  ⎝n  + 2⋅n  + 3⋅n⎠⋅⎜⎢56 ⎥⎟[n, 0]\n",
       "    ╱                     ⎜⎢   ⎥⎟      \n",
       "   ╱                      ⎜⎢ 7 ⎥⎟      \n",
       "  ╱                       ⎜⎢   ⎥⎟      \n",
       " ╱                        ⎝⎣890⎦⎠      \n",
       "╱                                      \n",
       "‾‾‾‾‾‾‾                                \n",
       " n = 0                                 "
      ]
     },
     "execution_count": 180,
     "metadata": {},
     "output_type": "execute_result"
    }
   ],
   "source": [
    "result"
   ]
  },
  {
   "cell_type": "code",
   "execution_count": 181,
   "id": "4cd89e68",
   "metadata": {},
   "outputs": [
    {
     "data": {
      "image/png": "[encoded data removed]",
      "text/latex": [
       "$\\displaystyle 99134$"
      ],
      "text/plain": [
       "99134"
      ]
     },
     "execution_count": 181,
     "metadata": {},
     "output_type": "execute_result"
    }
   ],
   "source": [
    "result.doit()"
   ]
  },
  {
   "cell_type": "code",
   "execution_count": 182,
   "id": "ba4b86da",
   "metadata": {},
   "outputs": [
    {
     "data": {
      "image/png": "[encoded data removed]",
      "text/latex": [
       "$\\displaystyle \\sum_{i=1}^{10} {x}_{i}$"
      ],
      "text/plain": [
       "  10      \n",
       " ___      \n",
       " ╲        \n",
       "  ╲       \n",
       "  ╱   x[i]\n",
       " ╱        \n",
       " ‾‾‾      \n",
       "i = 1     "
      ]
     },
     "execution_count": 182,
     "metadata": {},
     "output_type": "execute_result"
    }
   ],
   "source": [
    ">>> i = Symbol('i'); x = IndexedBase('x')\n",
    ">>> Sum(x[i],(i,1,10))"
   ]
  },
  {
   "cell_type": "code",
   "execution_count": 183,
   "id": "783474f8",
   "metadata": {},
   "outputs": [
    {
     "data": {
      "image/png": "[encoded data removed]",
      "text/latex": [
       "$\\displaystyle {x}_{10} + {x}_{1} + {x}_{2} + {x}_{3} + {x}_{4} + {x}_{5} + {x}_{6} + {x}_{7} + {x}_{8} + {x}_{9}$"
      ],
      "text/plain": [
       "x[10] + x[1] + x[2] + x[3] + x[4] + x[5] + x[6] + x[7] + x[8] + x[9]"
      ]
     },
     "execution_count": 183,
     "metadata": {},
     "output_type": "execute_result"
    }
   ],
   "source": [
    "_.doit()"
   ]
  },
  {
   "cell_type": "markdown",
   "id": "b3b4b1b7",
   "metadata": {},
   "source": [
    "### Warming Up 13"
   ]
  },
  {
   "attachments": {
    "image.png": {
     "image/png": "[encoded data removed]"
    }
   },
   "cell_type": "markdown",
   "id": "d2b8c7bf",
   "metadata": {},
   "source": [
    "![image.png](attachment:image.png)"
   ]
  },
  {
   "cell_type": "code",
   "execution_count": 186,
   "id": "6d39d3ee",
   "metadata": {},
   "outputs": [
    {
     "data": {
      "image/png": "[encoded data removed]",
      "text/latex": [
       "$\\displaystyle \\sum_{i=0}^{N} \\left(x + y{\\left(i \\right)}\\right)$"
      ],
      "text/plain": [
       "  N             \n",
       " ___            \n",
       " ╲              \n",
       "  ╲             \n",
       "  ╱   (x + y(i))\n",
       " ╱              \n",
       " ‾‾‾            \n",
       "i = 0           "
      ]
     },
     "execution_count": 186,
     "metadata": {},
     "output_type": "execute_result"
    }
   ],
   "source": [
    "from sympy import *\n",
    "\n",
    "i, N, x = symbols(\"i, N, x\")\n",
    "y = symbols('y', cls=Function)\n",
    "eq         = summation(x + y(i), (i, 0, N))\n",
    "eq"
   ]
  },
  {
   "cell_type": "code",
   "execution_count": 187,
   "id": "2f52e171",
   "metadata": {},
   "outputs": [
    {
     "data": {
      "image/png": "[encoded data removed]",
      "text/latex": [
       "$\\displaystyle \\sum_{i=0}^{N} x + \\sum_{i=0}^{N} y{\\left(i \\right)}$"
      ],
      "text/plain": [
       "  N         N       \n",
       " ___       ___      \n",
       " ╲         ╲        \n",
       "  ╲         ╲       \n",
       "  ╱   x +   ╱   y(i)\n",
       " ╱         ╱        \n",
       " ‾‾‾       ‾‾‾      \n",
       "i = 0     i = 0     "
      ]
     },
     "execution_count": 187,
     "metadata": {},
     "output_type": "execute_result"
    }
   ],
   "source": [
    "expand(eq)"
   ]
  },
  {
   "cell_type": "code",
   "execution_count": 189,
   "id": "d019576b",
   "metadata": {},
   "outputs": [
    {
     "name": "stdout",
     "output_type": "stream",
     "text": [
      "Sum(x, (i, 0, N)) + Sum(y(i), (i, 0, N))\n"
     ]
    }
   ],
   "source": [
    "print(expand(eq))"
   ]
  },
  {
   "cell_type": "code",
   "execution_count": 188,
   "id": "e49bdb3b",
   "metadata": {},
   "outputs": [
    {
     "data": {
      "image/png": "[encoded data removed]",
      "text/latex": [
       "$\\displaystyle \\left[ - \\frac{\\sum_{i=0}^{N} y{\\left(i \\right)}}{N + 1}\\right]$"
      ],
      "text/plain": [
       "⎡   N        ⎤\n",
       "⎢  ___       ⎥\n",
       "⎢  ╲         ⎥\n",
       "⎢   ╲        ⎥\n",
       "⎢-  ╱   y(i) ⎥\n",
       "⎢  ╱         ⎥\n",
       "⎢  ‾‾‾       ⎥\n",
       "⎢ i = 0      ⎥\n",
       "⎢────────────⎥\n",
       "⎣   N + 1    ⎦"
      ]
     },
     "execution_count": 188,
     "metadata": {},
     "output_type": "execute_result"
    }
   ],
   "source": [
    "solve(summation(x, (i, 0, N)) + summation(y(i), (i, 0, N)), x)"
   ]
  },
  {
   "attachments": {
    "image.png": {
     "image/png": "[encoded data removed]"
    }
   },
   "cell_type": "markdown",
   "id": "36082f9a",
   "metadata": {},
   "source": [
    "![image.png](attachment:image.png)"
   ]
  },
  {
   "cell_type": "code",
   "execution_count": 190,
   "id": "f8c101dc",
   "metadata": {},
   "outputs": [],
   "source": [
    "from sympy import diff\n",
    "\n",
    "def sum_diff_order(f,x,n):\n",
    "    g = 0\n",
    "    for i in range(n+1):\n",
    "        g += diff(f,x,i)\n",
    "    return g"
   ]
  },
  {
   "cell_type": "code",
   "execution_count": 194,
   "id": "52e019c6",
   "metadata": {},
   "outputs": [
    {
     "data": {
      "image/png": "[encoded data removed]",
      "text/latex": [
       "$\\displaystyle x^{10} + 10 x^{9} + 90 x^{8} + 720 x^{7} + 5040 x^{6} + 30240 x^{5}$"
      ],
      "text/plain": [
       " 10       9       8        7         6          5\n",
       "x   + 10⋅x  + 90⋅x  + 720⋅x  + 5040⋅x  + 30240⋅x "
      ]
     },
     "execution_count": 194,
     "metadata": {},
     "output_type": "execute_result"
    }
   ],
   "source": [
    "x = symbols('x')\n",
    "f_10 = x**10\n",
    "sum_diff_order(f_10,x,5)"
   ]
  },
  {
   "cell_type": "code",
   "execution_count": 203,
   "id": "271813d2",
   "metadata": {},
   "outputs": [
    {
     "data": {
      "image/png": "[encoded data removed]",
      "text/latex": [
       "$\\displaystyle x^{10} + \\frac{d}{d x} x^{10} + \\frac{d^{2}}{d x^{2}} x^{10}$"
      ],
      "text/plain": [
       "                  2     \n",
       " 10   d ⎛ 10⎞    d ⎛ 10⎞\n",
       "x   + ──⎝x  ⎠ + ───⎝x  ⎠\n",
       "      dx          2     \n",
       "                dx      "
      ]
     },
     "execution_count": 203,
     "metadata": {},
     "output_type": "execute_result"
    }
   ],
   "source": [
    "import sympy as sp\n",
    "\n",
    "x = sp.symbols('x')\n",
    "f = sp.Function('f')\n",
    "\n",
    "n = 2\n",
    "result=sum([f(x).diff(x,i) for i in range(n+1)])\n",
    "result.subs(f(x), f_10)"
   ]
  },
  {
   "cell_type": "code",
   "execution_count": 204,
   "id": "491b95e3",
   "metadata": {},
   "outputs": [
    {
     "data": {
      "image/png": "[encoded data removed]",
      "text/latex": [
       "$\\displaystyle x^{10} + 10 x^{9} + 90 x^{8}$"
      ],
      "text/plain": [
       " 10       9       8\n",
       "x   + 10⋅x  + 90⋅x "
      ]
     },
     "execution_count": 204,
     "metadata": {},
     "output_type": "execute_result"
    }
   ],
   "source": [
    "result.subs(f(x), f_10).doit()"
   ]
  },
  {
   "cell_type": "code",
   "execution_count": 207,
   "id": "8260ad26",
   "metadata": {},
   "outputs": [
    {
     "data": {
      "image/png": "[encoded data removed]",
      "text/latex": [
       "$\\displaystyle \\frac{d}{d x} f{\\left(x \\right)} + \\frac{d^{2}}{d x^{2}} f{\\left(x \\right)} + \\frac{d^{3}}{d x^{3}} f{\\left(x \\right)}$"
      ],
      "text/plain": [
       "             2           3      \n",
       "d           d           d       \n",
       "──(f(x)) + ───(f(x)) + ───(f(x))\n",
       "dx           2           3      \n",
       "           dx          dx       "
      ]
     },
     "execution_count": 207,
     "metadata": {},
     "output_type": "execute_result"
    }
   ],
   "source": [
    "x, i = symbols(\"x i\")\n",
    "f = Function(\"f\")(x)\n",
    "sum(diff(f,x,j) for j in range(1,4))"
   ]
  },
  {
   "cell_type": "markdown",
   "id": "c2ed7651",
   "metadata": {},
   "source": [
    "### Warming Up 14"
   ]
  },
  {
   "cell_type": "markdown",
   "id": "3e56cbea",
   "metadata": {},
   "source": [
    "$$\n",
    "\\frac{d^m}{dx^m}\\log(1+\\sum_{k=1}^N n_kx^k)\\Biggr|_{x=0}?\n",
    "$$"
   ]
  },
  {
   "attachments": {
    "image.png": {
     "image/png": "[encoded data removed]"
    }
   },
   "cell_type": "markdown",
   "id": "a0e76db0",
   "metadata": {},
   "source": [
    "![image.png](attachment:image.png)"
   ]
  },
  {
   "attachments": {
    "image.png": {
     "image/png": "[encoded data removed]"
    }
   },
   "cell_type": "markdown",
   "id": "29453c38",
   "metadata": {},
   "source": [
    "![image.png](attachment:image.png)"
   ]
  },
  {
   "cell_type": "markdown",
   "id": "d0aa8099",
   "metadata": {},
   "source": [
    "Faà di Bruno's formula"
   ]
  },
  {
   "cell_type": "code",
   "execution_count": 28,
   "id": "4df1a387",
   "metadata": {},
   "outputs": [],
   "source": [
    "from sympy import *\n",
    "\n",
    "x,n1,n2,n3=symbols('x,n1,n2,n3')\n",
    "\n",
    "def f(x):\n",
    "    return -log(x)\n",
    "def g(x):\n",
    "    return n3*x**3+n2*x**2+n1*x+1"
   ]
  },
  {
   "cell_type": "code",
   "execution_count": 29,
   "id": "60311d4d",
   "metadata": {},
   "outputs": [
    {
     "data": {
      "text/latex": [
       "$\\displaystyle - \\log{\\left(x \\right)}$"
      ],
      "text/plain": [
       "-log(x)"
      ]
     },
     "execution_count": 29,
     "metadata": {},
     "output_type": "execute_result"
    }
   ],
   "source": [
    "f(x)"
   ]
  },
  {
   "cell_type": "code",
   "execution_count": 30,
   "id": "4ca16f4b",
   "metadata": {},
   "outputs": [
    {
     "data": {
      "text/latex": [
       "$\\displaystyle n_{1} x + n_{2} x^{2} + n_{3} x^{3} + 1$"
      ],
      "text/plain": [
       "n1*x + n2*x**2 + n3*x**3 + 1"
      ]
     },
     "execution_count": 30,
     "metadata": {},
     "output_type": "execute_result"
    }
   ],
   "source": [
    "g(x)"
   ]
  },
  {
   "cell_type": "code",
   "execution_count": 31,
   "id": "d2cc461a",
   "metadata": {},
   "outputs": [
    {
     "data": {
      "text/latex": [
       "$\\displaystyle - \\log{\\left(n_{1} x + n_{2} x^{2} + n_{3} x^{3} + 1 \\right)}$"
      ],
      "text/plain": [
       "-log(n1*x + n2*x**2 + n3*x**3 + 1)"
      ]
     },
     "execution_count": 31,
     "metadata": {},
     "output_type": "execute_result"
    }
   ],
   "source": [
    "f(g(x))"
   ]
  },
  {
   "cell_type": "code",
   "execution_count": 32,
   "id": "8df453b6",
   "metadata": {},
   "outputs": [
    {
     "data": {
      "text/latex": [
       "$\\displaystyle - 2 n_{1}^{3} + 6 n_{1} n_{2} - 6 n_{3}$"
      ],
      "text/plain": [
       "-2*n1**3 + 6*n1*n2 - 6*n3"
      ]
     },
     "execution_count": 32,
     "metadata": {},
     "output_type": "execute_result"
    }
   ],
   "source": [
    "n = 3\n",
    "diff(f(g(x)),x,n).subs(x,0)"
   ]
  },
  {
   "cell_type": "code",
   "execution_count": 48,
   "id": "6c930bde",
   "metadata": {},
   "outputs": [
    {
     "name": "stdout",
     "output_type": "stream",
     "text": [
      "[n1, 2*n2, 6*n3]\n"
     ]
    }
   ],
   "source": [
    "v = map(lambda k: diff(g(x),x,k).subs(x,0), range(1,n+1))\n",
    "print(list(v))"
   ]
  },
  {
   "cell_type": "code",
   "execution_count": 51,
   "id": "ffe7b696",
   "metadata": {},
   "outputs": [
    {
     "name": "stdout",
     "output_type": "stream",
     "text": [
      "-2*n1**3 + 6*n1*n2 - 6*n3\n"
     ]
    }
   ],
   "source": [
    "from sympy import bell\n",
    "s = 0\n",
    "for k in range(1,n+1):\n",
    "    s +=diff(f(x),x,k).subs(x,g(0))*bell(n,k,list(map(lambda k: diff(g(x),x,k).subs(x,0), range(1,n+1))))\n",
    "print(s)"
   ]
  },
  {
   "cell_type": "code",
   "execution_count": 52,
   "id": "30686e09",
   "metadata": {},
   "outputs": [
    {
     "data": {
      "text/latex": [
       "$\\displaystyle - 2 n_{1}^{3} + 6 n_{1} n_{2} - 6 n_{3}$"
      ],
      "text/plain": [
       "-2*n1**3 + 6*n1*n2 - 6*n3"
      ]
     },
     "execution_count": 52,
     "metadata": {},
     "output_type": "execute_result"
    }
   ],
   "source": [
    "s"
   ]
  },
  {
   "cell_type": "markdown",
   "id": "cbb9c6ae",
   "metadata": {},
   "source": [
    "### Warming Up 15"
   ]
  },
  {
   "cell_type": "code",
   "execution_count": 57,
   "id": "c8651203",
   "metadata": {},
   "outputs": [
    {
     "data": {
      "text/latex": [
       "$\\displaystyle 6 x_{1} x_{5} + 15 x_{2} x_{4} + 10 x_{3}^{2}$"
      ],
      "text/plain": [
       "6*x1*x5 + 15*x2*x4 + 10*x3**2"
      ]
     },
     "execution_count": 57,
     "metadata": {},
     "output_type": "execute_result"
    }
   ],
   "source": [
    "bell(6, 2, symbols('x:6')[1:])"
   ]
  },
  {
   "cell_type": "code",
   "execution_count": 58,
   "id": "811a80fb",
   "metadata": {},
   "outputs": [
    {
     "data": {
      "text/plain": [
       "[1, 1, 2, 5, 15, 52, 203, 877, 4140, 21147, 115975]"
      ]
     },
     "execution_count": 58,
     "metadata": {},
     "output_type": "execute_result"
    }
   ],
   "source": [
    "[bell(n) for n in range(11)]"
   ]
  },
  {
   "cell_type": "markdown",
   "id": "6d95fae3",
   "metadata": {},
   "source": [
    "bell(n) gives the  Bell number, .\n",
    "\n",
    "bell(n, x) gives the  Bell polynomial, .\n",
    "\n",
    "bell(n, k, (x1, x2, ...)) gives Bell polynomials of the second kind, ."
   ]
  },
  {
   "attachments": {
    "image.png": {
     "image/png": "[encoded data removed]"
    }
   },
   "cell_type": "markdown",
   "id": "ca756fd6",
   "metadata": {},
   "source": [
    "![image.png](attachment:image.png)"
   ]
  },
  {
   "cell_type": "code",
   "execution_count": 60,
   "id": "acc7cef2",
   "metadata": {},
   "outputs": [
    {
     "data": {
      "text/latex": [
       "$\\displaystyle \\sum_{\\substack{1 \\leq Dummy_{23} \\leq N\\\\1 \\leq i \\leq N}} - 2 e^{- {x}_{Dummy_{23}}^{2}} \\delta_{Dummy_{23} i} {x}_{Dummy_{23}} \\left(\\prod_{j=1}^{Dummy_{23} - 1} e^{- {x}_{j}^{2}}\\right) \\prod_{j=Dummy_{23} + 1}^{N} e^{- {x}_{j}^{2}}$"
      ],
      "text/plain": [
       "Sum(-2*exp(-x[_Dummy_23]**2)*KroneckerDelta(_Dummy_23, i)*x[_Dummy_23]*Product(exp(-x[j]**2), (j, 1, _Dummy_23 - 1))*Product(exp(-x[j]**2), (j, _Dummy_23 + 1, N)), (_Dummy_23, 1, N), (i, 1, N))"
      ]
     },
     "execution_count": 60,
     "metadata": {},
     "output_type": "execute_result"
    }
   ],
   "source": [
    "x = IndexedBase(\"x\")\n",
    "i, j, N = symbols(\"i j N\")\n",
    "expr = Sum(Product(exp(-x[j]**2), (j, 1, N)).diff(x[i]), (i, 1, N))\n",
    "expr"
   ]
  },
  {
   "cell_type": "code",
   "execution_count": 61,
   "id": "46363f9e",
   "metadata": {},
   "outputs": [
    {
     "data": {
      "text/latex": [
       "$\\displaystyle \\sum_{i=1}^{N} \\frac{\\partial}{\\partial {x}_{i}} \\prod_{j=1}^{N} e^{- {x}_{j}^{2}}$"
      ],
      "text/plain": [
       "Sum(Derivative(Product(exp(-x[j]**2), (j, 1, N)), x[i]), (i, 1, N))"
      ]
     },
     "execution_count": 61,
     "metadata": {},
     "output_type": "execute_result"
    }
   ],
   "source": [
    "Sum(Derivative(Product(exp(-x[j]**2), (j, 1, N)), x[i]), (i, 1, N))"
   ]
  },
  {
   "cell_type": "code",
   "execution_count": 62,
   "id": "42a5cd9d",
   "metadata": {},
   "outputs": [
    {
     "data": {
      "text/latex": [
       "$\\displaystyle N \\frac{\\partial}{\\partial {x}_{i}} \\prod_{j=1}^{N} e^{- {x}_{j}^{2}}$"
      ],
      "text/plain": [
       "N*Derivative(Product(exp(-x[j]**2), (j, 1, N)), x[i])"
      ]
     },
     "execution_count": 62,
     "metadata": {},
     "output_type": "execute_result"
    }
   ],
   "source": [
    "N*Derivative(Product(exp(-x[j]**2), (j, 1, N)), x[i])"
   ]
  },
  {
   "cell_type": "code",
   "execution_count": 63,
   "id": "9b1143a8",
   "metadata": {},
   "outputs": [
    {
     "data": {
      "text/latex": [
       "$\\displaystyle \\sum_{i=1}^{N} \\begin{cases} - 2 \\left(e^{\\sum_{j=1}^{N} \\log{\\left(e^{- {x}_{j}^{2}} \\right)}}\\right) {x}_{i} & \\text{for}\\: N \\geq i \\wedge i \\geq 1 \\\\0 & \\text{otherwise} \\end{cases}$"
      ],
      "text/plain": [
       "Sum(Piecewise((-2*exp(Sum(log(exp(-x[j]**2)), (j, 1, N)))*x[i], (N >= i) & (i >= 1)), (0, True)), (i, 1, N))"
      ]
     },
     "execution_count": 63,
     "metadata": {},
     "output_type": "execute_result"
    }
   ],
   "source": [
    "expr = Sum(Product(exp(-x[j]**2), (j, 1, N)).rewrite(Sum).diff(x[i]), (i, 1, N))\n",
    "expr.doit()"
   ]
  },
  {
   "cell_type": "code",
   "execution_count": 64,
   "id": "f2be1592",
   "metadata": {},
   "outputs": [
    {
     "data": {
      "text/latex": [
       "$\\displaystyle \\sum_{i=1}^{N} - 2 \\left(e^{\\sum_{j=1}^{N} - {x}_{j}^{2}}\\right) {x}_{i}$"
      ],
      "text/plain": [
       "Sum(-2*exp(Sum(-x[j]**2, (j, 1, N)))*x[i], (i, 1, N))"
      ]
     },
     "execution_count": 64,
     "metadata": {},
     "output_type": "execute_result"
    }
   ],
   "source": [
    "e = expr.doit()\n",
    "p = next(iter(e.atoms(Piecewise)))\n",
    "e = expand_log(e.xreplace({p: p.args[0][0]}), force=True)\n",
    "e"
   ]
  },
  {
   "cell_type": "code",
   "execution_count": 65,
   "id": "40eacd5e",
   "metadata": {},
   "outputs": [
    {
     "data": {
      "text/latex": [
       "$\\displaystyle 0$"
      ],
      "text/plain": [
       "0"
      ]
     },
     "execution_count": 65,
     "metadata": {},
     "output_type": "execute_result"
    }
   ],
   "source": [
    "x, y, z = symbols('x, y, z')\n",
    "A = x*y*z\n",
    "B = x*y\n",
    "\n",
    "# This is the detail:\n",
    "type(B)._diff_wrt = True\n",
    "diff(A, B)"
   ]
  },
  {
   "cell_type": "markdown",
   "id": "afe37915",
   "metadata": {},
   "source": [
    "### Warming Up 16"
   ]
  },
  {
   "attachments": {
    "image.png": {
     "image/png": "[encoded data removed]"
    }
   },
   "cell_type": "markdown",
   "id": "4f6f1935",
   "metadata": {},
   "source": [
    "![image.png](attachment:image.png)"
   ]
  },
  {
   "cell_type": "code",
   "execution_count": 66,
   "id": "2ec6137b",
   "metadata": {},
   "outputs": [],
   "source": [
    "from sympy import*\n",
    "import numpy as np\n",
    "init_printing() #delete if you dont have LaTeX installed\n",
    "\n",
    "logt_r, logt_a, T, T_a, a_0, a_1, a_2, logS, Taa_0, Taa_1, Taa_2  = symbols('logt_r, logt_a, T, T_a, a_0, a_1, a_2, logS, Taa_0, Taa_1, Taa_2')\n",
    "\n",
    "A = (logt_r - logt_a - (T - T_a) * (a_0 + a_1 * logS + a_2 * logS**2) )**2\n",
    "parametri = [logt_a, a_0, Taa_0, a_1, Taa_1, a_2, Taa_2]"
   ]
  },
  {
   "cell_type": "code",
   "execution_count": 67,
   "id": "eb6c0cb9",
   "metadata": {},
   "outputs": [
    {
     "data": {
      "image/png": "[encoded data removed]",
      "text/latex": [
       "$\\displaystyle \\left(- logt_{a} + logt_{r} - \\left(T - T_{a}\\right) \\left(a_{0} + a_{1} logS + a_{2} logS^{2}\\right)\\right)^{2}$"
      ],
      "text/plain": [
       "                                                     2\n",
       "⎛                          ⎛                      2⎞⎞ \n",
       "⎝-logtₐ + logtᵣ - (T - Tₐ)⋅⎝a₀ + a₁⋅logS + a₂⋅logS ⎠⎠ "
      ]
     },
     "execution_count": 67,
     "metadata": {},
     "output_type": "execute_result"
    }
   ],
   "source": [
    "A"
   ]
  },
  {
   "cell_type": "code",
   "execution_count": 70,
   "id": "b9d9dace",
   "metadata": {},
   "outputs": [
    {
     "data": {
      "image/png": "[encoded data removed]",
      "text/latex": [
       "$\\displaystyle T^{2} a_{0}^{2} + 2 T^{2} a_{0} a_{1} logS + 2 T^{2} a_{0} a_{2} logS^{2} + T^{2} a_{1}^{2} logS^{2} + 2 T^{2} a_{1} a_{2} logS^{3} + T^{2} a_{2}^{2} logS^{4} - 2 T Taa_{0} a_{0} - 4 T Taa_{0} a_{1} logS - 4 T Taa_{0} a_{2} logS^{2} - 2 T Taa_{1} a_{1} logS^{2} - 4 T Taa_{1} a_{2} logS^{3} - 2 T Taa_{2} a_{2} logS^{4} + 2 T a_{0} logt_{a} - 2 T a_{0} logt_{r} + 2 T a_{1} logS logt_{a} - 2 T a_{1} logS logt_{r} + 2 T a_{2} logS^{2} logt_{a} - 2 T a_{2} logS^{2} logt_{r} + Taa_{0}^{2} + 2 Taa_{0} Taa_{1} logS + 2 Taa_{0} Taa_{2} logS^{2} - 2 Taa_{0} logt_{a} + 2 Taa_{0} logt_{r} + Taa_{1}^{2} logS^{2} + 2 Taa_{1} Taa_{2} logS^{3} - 2 Taa_{1} logS logt_{a} + 2 Taa_{1} logS logt_{r} + Taa_{2}^{2} logS^{4} - 2 Taa_{2} logS^{2} logt_{a} + 2 Taa_{2} logS^{2} logt_{r} + logt_{a}^{2} - 2 logt_{a} logt_{r} + logt_{r}^{2}$"
      ],
      "text/plain": [
       " 2   2      2                 2           2    2   2     2      2           3 \n",
       "T ⋅a₀  + 2⋅T ⋅a₀⋅a₁⋅logS + 2⋅T ⋅a₀⋅a₂⋅logS  + T ⋅a₁ ⋅logS  + 2⋅T ⋅a₁⋅a₂⋅logS  \n",
       "\n",
       "   2   2     4                                                    2           \n",
       "+ T ⋅a₂ ⋅logS  - 2⋅T⋅Taa₀⋅a₀ - 4⋅T⋅Taa₀⋅a₁⋅logS - 4⋅T⋅Taa₀⋅a₂⋅logS  - 2⋅T⋅Taa₁\n",
       "\n",
       "        2                   3                   4                             \n",
       "⋅a₁⋅logS  - 4⋅T⋅Taa₁⋅a₂⋅logS  - 2⋅T⋅Taa₂⋅a₂⋅logS  + 2⋅T⋅a₀⋅logtₐ - 2⋅T⋅a₀⋅logt\n",
       "\n",
       "                                                       2                    2 \n",
       "ᵣ + 2⋅T⋅a₁⋅logS⋅logtₐ - 2⋅T⋅a₁⋅logS⋅logtᵣ + 2⋅T⋅a₂⋅logS ⋅logtₐ - 2⋅T⋅a₂⋅logS ⋅\n",
       "\n",
       "            2                                      2                          \n",
       "logtᵣ + Taa₀  + 2⋅Taa₀⋅Taa₁⋅logS + 2⋅Taa₀⋅Taa₂⋅logS  - 2⋅Taa₀⋅logtₐ + 2⋅Taa₀⋅l\n",
       "\n",
       "           2     2                   3                                        \n",
       "ogtᵣ + Taa₁ ⋅logS  + 2⋅Taa₁⋅Taa₂⋅logS  - 2⋅Taa₁⋅logS⋅logtₐ + 2⋅Taa₁⋅logS⋅logtᵣ\n",
       "\n",
       "       2     4              2                    2              2             \n",
       " + Taa₂ ⋅logS  - 2⋅Taa₂⋅logS ⋅logtₐ + 2⋅Taa₂⋅logS ⋅logtᵣ + logtₐ  - 2⋅logtₐ⋅lo\n",
       "\n",
       "           2\n",
       "gtᵣ + logtᵣ "
      ]
     },
     "execution_count": 70,
     "metadata": {},
     "output_type": "execute_result"
    }
   ],
   "source": [
    "M = expand(A)\n",
    "M = M.subs(T_a*a_0, Taa_0)\n",
    "M = M.subs(T_a*a_1, Taa_1)\n",
    "M = M.subs(T_a*a_2, Taa_2)\n",
    "M"
   ]
  },
  {
   "cell_type": "code",
   "execution_count": 72,
   "id": "4da304bf",
   "metadata": {},
   "outputs": [
    {
     "data": {
      "text/latex": [
       "$\\displaystyle \\left[\\begin{matrix}1 & T & -1 & T logS & - logS & T logS^{2} & - logS^{2}\\\\T & T^{2} & - 2 T & T^{2} logS & - 2 T logS & T^{2} logS^{2} & - 2 T logS^{2}\\\\0 & 0 & 0 & 0 & 0 & 0 & 0\\\\T logS & T^{2} logS & - 2 T logS & T^{2} logS^{2} & - 2 T logS^{2} & T^{2} logS^{3} & - 2 T logS^{3}\\\\0 & 0 & 0 & 0 & 0 & 0 & 0\\\\T logS^{2} & T^{2} logS^{2} & - 2 T logS^{2} & T^{2} logS^{3} & - 2 T logS^{3} & T^{2} logS^{4} & - 2 T logS^{4}\\\\0 & 0 & 0 & 0 & 0 & 0 & 0\\end{matrix}\\right]$"
      ],
      "text/plain": [
       "⎡                                                           2          2  ⎤\n",
       "⎢   1        T          -1       T⋅logS     -logS     T⋅logS      -logS   ⎥\n",
       "⎢                                                                         ⎥\n",
       "⎢             2                  2                     2     2           2⎥\n",
       "⎢   T        T         -2⋅T     T ⋅logS   -2⋅T⋅logS   T ⋅logS   -2⋅T⋅logS ⎥\n",
       "⎢                                                                         ⎥\n",
       "⎢   0        0          0          0          0          0          0     ⎥\n",
       "⎢                                                                         ⎥\n",
       "⎢          2                     2     2           2   2     3           3⎥\n",
       "⎢T⋅logS   T ⋅logS   -2⋅T⋅logS   T ⋅logS   -2⋅T⋅logS   T ⋅logS   -2⋅T⋅logS ⎥\n",
       "⎢                                                                         ⎥\n",
       "⎢   0        0          0          0          0          0          0     ⎥\n",
       "⎢                                                                         ⎥\n",
       "⎢      2   2     2           2   2     3           3   2     4           4⎥\n",
       "⎢T⋅logS   T ⋅logS   -2⋅T⋅logS   T ⋅logS   -2⋅T⋅logS   T ⋅logS   -2⋅T⋅logS ⎥\n",
       "⎢                                                                         ⎥\n",
       "⎣   0        0          0          0          0          0          0     ⎦"
      ]
     },
     "execution_count": 72,
     "metadata": {},
     "output_type": "execute_result"
    }
   ],
   "source": [
    "koef = [logt_a, a_0, T_a*a_0, a_1, T_a*a_1, a_2, T_a*a_2]\n",
    "M = expand(A)\n",
    "K = zeros(len(koef), len(koef))\n",
    "def odvod_mat(par):\n",
    "    for j in range(len(par)):\n",
    "        for i in range(len(par)):\n",
    "            type(par[i])._diff_wrt = True\n",
    "            P = diff(M, par[i])/2\n",
    "            B = P.coeff(par[j])\n",
    "            K[i,j] = B\n",
    "\n",
    "            #Removal of T_a\n",
    "            K[i,j] = K[i,j].subs(T_a, 0)\n",
    "    return K  \n",
    "odvod_mat(koef)"
   ]
  },
  {
   "cell_type": "markdown",
   "id": "8c345d98",
   "metadata": {},
   "source": [
    "### Warming Up 17"
   ]
  },
  {
   "cell_type": "code",
   "execution_count": 73,
   "id": "4ab11b45",
   "metadata": {},
   "outputs": [
    {
     "data": {
      "image/png": "[encoded data removed]",
      "text/latex": [
       "$\\displaystyle \\frac{x^{5}}{120} - \\frac{x^{4} y}{24} + \\frac{x^{4}}{24} + \\frac{x^{3} y^{2}}{12} - \\frac{x^{3} y}{6} + \\frac{x^{3}}{6} - \\frac{x^{2} y^{3}}{12} + \\frac{x^{2} y^{2}}{4} - \\frac{x^{2} y}{2} + \\frac{x^{2}}{2} + \\frac{x y^{4}}{24} - \\frac{x y^{3}}{6} + \\frac{x y^{2}}{2} - x y + x - \\frac{y^{5}}{120} + \\frac{y^{4}}{24} - \\frac{y^{3}}{6} + \\frac{y^{2}}{2} - y + 1$"
      ],
      "text/plain": [
       "  5    4      4    3  2    3      3    2  3    2  2    2      2      4      3 \n",
       " x    x ⋅y   x    x ⋅y    x ⋅y   x    x ⋅y    x ⋅y    x ⋅y   x    x⋅y    x⋅y  \n",
       "─── - ──── + ── + ───── - ──── + ── - ───── + ───── - ──── + ── + ──── - ──── \n",
       "120    24    24     12     6     6      12      4      2     2     24     6   \n",
       "\n",
       "     2               5    4    3    2        \n",
       "  x⋅y               y    y    y    y         \n",
       "+ ──── - x⋅y + x - ─── + ── - ── + ── - y + 1\n",
       "   2               120   24   6    2         "
      ]
     },
     "execution_count": 73,
     "metadata": {},
     "output_type": "execute_result"
    }
   ],
   "source": [
    "import sympy\n",
    "x, y , eps = sympy.symbols('x y eps')\n",
    "f = sympy.exp(x-y)\n",
    "f.subs(x,x*eps).subs(y,y*eps).series(eps).removeO().subs(eps,1)"
   ]
  },
  {
   "cell_type": "code",
   "execution_count": 82,
   "id": "738c1dc0",
   "metadata": {},
   "outputs": [
    {
     "data": {
      "image/png": "[encoded data removed]",
      "text/latex": [
       "$\\displaystyle \\frac{h^{3} \\frac{d^{3}}{d x^{3}} f{\\left(x \\right)}}{6} + \\frac{h^{2} \\frac{d^{2}}{d x^{2}} f{\\left(x \\right)}}{2} + h \\frac{d}{d x} f{\\left(x \\right)} + f{\\left(x \\right)}$"
      ],
      "text/plain": [
       "     3              2                          \n",
       " 3  d           2  d                           \n",
       "h ⋅───(f(x))   h ⋅───(f(x))                    \n",
       "     3              2                          \n",
       "   dx             dx            d              \n",
       "──────────── + ──────────── + h⋅──(f(x)) + f(x)\n",
       "     6              2           dx             "
      ]
     },
     "execution_count": 82,
     "metadata": {},
     "output_type": "execute_result"
    }
   ],
   "source": [
    "from sympy import *\n",
    "x, h = symbols('x, h')\n",
    "f = Function('f')\n",
    "sum(h**i/factorial(i) * f(x).diff(x, i) for i in range(4))"
   ]
  },
  {
   "cell_type": "code",
   "execution_count": 83,
   "id": "7b11185d",
   "metadata": {},
   "outputs": [
    {
     "data": {
      "text/latex": [
       "$\\displaystyle f{\\left(h \\right)} + \\left(- h + x\\right) \\left. \\frac{d}{d \\xi_{1}} f{\\left(\\xi_{1} \\right)} \\right|_{\\substack{ \\xi_{1}=h }} + \\frac{\\left(- h + x\\right)^{2} \\left. \\frac{d^{2}}{d \\xi_{1}^{2}} f{\\left(\\xi_{1} \\right)} \\right|_{\\substack{ \\xi_{1}=h }}}{2} + O\\left(\\left(- h + x\\right)^{3}; x\\rightarrow h\\right)$"
      ],
      "text/plain": [
       "                                              ⎛  2        ⎞│                  \n",
       "                                            2 ⎜ d         ⎟│                  \n",
       "                                    (-h + x) ⋅⎜────(f(ξ₁))⎟│                  \n",
       "                                              ⎜   2       ⎟│                  \n",
       "                ⎛ d        ⎞│                 ⎝dξ₁        ⎠│ξ₁=h    ⎛        3\n",
       "f(h) + (-h + x)⋅⎜───(f(ξ₁))⎟│     + ──────────────────────────── + O⎝(-h + x) \n",
       "                ⎝dξ₁       ⎠│ξ₁=h                2                            \n",
       "\n",
       "        \n",
       "        \n",
       "        \n",
       "        \n",
       "       ⎞\n",
       "; x → h⎠\n",
       "        "
      ]
     },
     "execution_count": 83,
     "metadata": {},
     "output_type": "execute_result"
    }
   ],
   "source": [
    "x, h, a= symbols(\"x h a\")\n",
    "f = Function(\"f\")\n",
    "f(x).series(x, x0=h, n=3)"
   ]
  },
  {
   "cell_type": "code",
   "execution_count": 86,
   "id": "a008f97c",
   "metadata": {},
   "outputs": [],
   "source": [
    "import sympy as sy"
   ]
  },
  {
   "cell_type": "code",
   "execution_count": 102,
   "id": "4cfb3520",
   "metadata": {},
   "outputs": [
    {
     "data": {
      "image/png": "[encoded data removed]",
      "text/latex": [
       "$\\displaystyle \\frac{- \\sqrt{r_{b}^{2} - r_{s}^{2} \\sin^{2}{\\left(z \\right)}} + \\sqrt{- r_{s}^{2} \\sin^{2}{\\left(z \\right)} + r_{t}^{2}}}{- r_{b} + r_{t}}$"
      ],
      "text/plain": [
       "     ____________________      _____________________\n",
       "    ╱    2     2    2         ╱     2    2        2 \n",
       "- ╲╱  r_b  - rₛ ⋅sin (z)  + ╲╱  - rₛ ⋅sin (z) + rₜ  \n",
       "────────────────────────────────────────────────────\n",
       "                     -r_b + rₜ                      "
      ]
     },
     "execution_count": 102,
     "metadata": {},
     "output_type": "execute_result"
    }
   ],
   "source": [
    "z, d, r_s, N_e, r_t, r_s, r_b = sy.symbols('z  d r_s N_e r_t r_s r_b')\n",
    "\n",
    "# Define W_model\n",
    "def W_model(r_t=r_t, r_b=r_b, r_s=r_s, z=z):\n",
    "\n",
    "    s_model = sy.sqrt(pow(r_t, 2) - pow(r_s*sy.sin(z), 2)) - sy.sqrt(pow(r_b, 2) - pow(r_s*sy.sin(z), 2))\n",
    "    d_model = r_t - r_b\n",
    "\n",
    "    STEC_approx = N_e * s_model\n",
    "    VTEC_approx = N_e * d_model\n",
    "\n",
    "    return STEC_approx/VTEC_approx\n",
    "\n",
    "f = W_model() \n",
    "# printing Standard model\n",
    "f"
   ]
  },
  {
   "cell_type": "code",
   "execution_count": 122,
   "id": "79243ace",
   "metadata": {},
   "outputs": [
    {
     "data": {
      "image/png": "[encoded data removed]",
      "text/latex": [
       "$\\displaystyle \\frac{x - \\pi}{e^{\\pi^{2}}} - \\frac{2 \\pi \\left(x - \\pi\\right)^{2}}{e^{\\pi^{2}}} + O\\left(\\left(x - \\pi\\right)^{3}; x\\rightarrow \\pi\\right)$"
      ],
      "text/plain": [
       "           2                   2                     \n",
       "         -π               2  -π     ⎛       3       ⎞\n",
       "(x - π)⋅ℯ    - 2⋅π⋅(x - π) ⋅ℯ    + O⎝(x - π) ; x → π⎠"
      ]
     },
     "execution_count": 122,
     "metadata": {},
     "output_type": "execute_result"
    }
   ],
   "source": [
    "import sympy\n",
    "x = sympy.Symbol('x')\n",
    "f = sympy.exp(-x**2)*sympy.sin(x-(sympy.pi))\n",
    "f.series(x0=pi, n=3)"
   ]
  },
  {
   "cell_type": "code",
   "execution_count": 117,
   "id": "36f329b1",
   "metadata": {},
   "outputs": [
    {
     "data": {
      "image/png": "[encoded data removed]",
      "text/latex": [
       "$\\displaystyle t - \\frac{t^{3}}{6} + \\frac{t^{5}}{120} - \\frac{t^{7}}{5040} + O\\left(t^{8}\\right)$"
      ],
      "text/plain": [
       "     3     5     7         \n",
       "    t     t     t      ⎛ 8⎞\n",
       "t - ── + ─── - ──── + O⎝t ⎠\n",
       "    6    120   5040        "
      ]
     },
     "execution_count": 117,
     "metadata": {},
     "output_type": "execute_result"
    }
   ],
   "source": [
    "y = Function(\"y\")\n",
    "t=sy.symbols('t')\n",
    "y = sin(t)\n",
    "\n",
    "y.series(t, 0, 8)"
   ]
  },
  {
   "cell_type": "markdown",
   "id": "a97f362e",
   "metadata": {},
   "source": [
    "### Warming Up 17"
   ]
  },
  {
   "cell_type": "code",
   "execution_count": 130,
   "id": "2171c4b1",
   "metadata": {},
   "outputs": [],
   "source": [
    "import sympy\n",
    "x, y= sympy.symbols('x y')"
   ]
  },
  {
   "cell_type": "code",
   "execution_count": 133,
   "id": "94bc88f4",
   "metadata": {},
   "outputs": [
    {
     "data": {
      "image/png": "[encoded data removed]",
      "text/latex": [
       "$\\displaystyle \\left[ \\left\\{ x : 0, \\  y : \\frac{\\pi}{2}\\right\\}, \\  \\left\\{ x : 0, \\  y : \\frac{3 \\pi}{2}\\right\\}, \\  \\left\\{ x : \\frac{\\pi}{2}, \\  y : 0\\right\\}, \\  \\left\\{ x : \\frac{\\pi}{2}, \\  y : \\pi\\right\\}, \\  \\left\\{ x : \\pi, \\  y : \\frac{\\pi}{2}\\right\\}, \\  \\left\\{ x : \\pi, \\  y : \\frac{3 \\pi}{2}\\right\\}, \\  \\left\\{ x : \\frac{3 \\pi}{2}, \\  y : 0\\right\\}, \\  \\left\\{ x : \\frac{3 \\pi}{2}, \\  y : \\pi\\right\\}\\right]$"
      ],
      "text/plain": [
       "⎡⎧         π⎫  ⎧         3⋅π⎫  ⎧   π      ⎫  ⎧   π      ⎫  ⎧         π⎫  ⎧    \n",
       "⎢⎨x: 0, y: ─⎬, ⎨x: 0, y: ───⎬, ⎨x: ─, y: 0⎬, ⎨x: ─, y: π⎬, ⎨x: π, y: ─⎬, ⎨x: π\n",
       "⎣⎩         2⎭  ⎩          2 ⎭  ⎩   2      ⎭  ⎩   2      ⎭  ⎩         2⎭  ⎩    \n",
       "\n",
       "     3⋅π⎫  ⎧   3⋅π      ⎫  ⎧   3⋅π      ⎫⎤\n",
       ", y: ───⎬, ⎨x: ───, y: 0⎬, ⎨x: ───, y: π⎬⎥\n",
       "      2 ⎭  ⎩    2       ⎭  ⎩    2       ⎭⎦"
      ]
     },
     "execution_count": 133,
     "metadata": {},
     "output_type": "execute_result"
    }
   ],
   "source": [
    "f = sin(x)*cos(y)\n",
    "stationary_points = solve([f.diff(x), f.diff(y)], [x, y], dict=True)\n",
    "stationary_points"
   ]
  },
  {
   "cell_type": "code",
   "execution_count": 134,
   "id": "ed5e7223",
   "metadata": {},
   "outputs": [
    {
     "data": {
      "image/png": "[encoded data removed]",
      "text/latex": [
       "$\\displaystyle \\left[ 0, \\  0, \\  1, \\  -1, \\  0, \\  0, \\  -1, \\  1\\right]$"
      ],
      "text/plain": [
       "[0, 0, 1, -1, 0, 0, -1, 1]"
      ]
     },
     "execution_count": 134,
     "metadata": {},
     "output_type": "execute_result"
    }
   ],
   "source": [
    "[f.subs(p) for p in stationary_points]"
   ]
  },
  {
   "cell_type": "code",
   "execution_count": 135,
   "id": "76cbbfef",
   "metadata": {},
   "outputs": [
    {
     "data": {
      "image/png": "[encoded data removed]",
      "text/latex": [
       "$\\displaystyle 1$"
      ],
      "text/plain": [
       "1"
      ]
     },
     "execution_count": 135,
     "metadata": {},
     "output_type": "execute_result"
    }
   ],
   "source": [
    " max(_)"
   ]
  },
  {
   "cell_type": "code",
   "execution_count": 154,
   "id": "8ae962bf",
   "metadata": {},
   "outputs": [
    {
     "data": {
      "image/png": "[encoded data removed]",
      "text/latex": [
       "$\\displaystyle F{\\left(x,y \\right)}$"
      ],
      "text/plain": [
       "F(x, y)"
      ]
     },
     "execution_count": 154,
     "metadata": {},
     "output_type": "execute_result"
    }
   ],
   "source": [
    "x, y= sympy.symbols('x y')\n",
    "F = Function(\"F\")\n",
    "F(x, y)"
   ]
  },
  {
   "cell_type": "code",
   "execution_count": 155,
   "id": "605927fb",
   "metadata": {},
   "outputs": [
    {
     "data": {
      "image/png": "[encoded data removed]",
      "text/latex": [
       "$\\displaystyle \\frac{\\partial^{3}}{\\partial y^{2}\\partial x} F{\\left(x,y \\right)}$"
      ],
      "text/plain": [
       "   3           \n",
       "  ∂            \n",
       "──────(F(x, y))\n",
       "  2            \n",
       "∂y  ∂x         "
      ]
     },
     "execution_count": 155,
     "metadata": {},
     "output_type": "execute_result"
    }
   ],
   "source": [
    "result=F(x,y).diff(x,y, 2)\n",
    "result"
   ]
  },
  {
   "cell_type": "code",
   "execution_count": 158,
   "id": "89ca16d9",
   "metadata": {},
   "outputs": [
    {
     "data": {
      "image/png": "[encoded data removed]",
      "text/latex": [
       "$\\displaystyle 3 x y^{3}$"
      ],
      "text/plain": [
       "     3\n",
       "3⋅x⋅y "
      ]
     },
     "execution_count": 158,
     "metadata": {},
     "output_type": "execute_result"
    }
   ],
   "source": [
    "ftest=3*x*y**3\n",
    "ftest"
   ]
  },
  {
   "cell_type": "code",
   "execution_count": 159,
   "id": "75fa5432",
   "metadata": {},
   "outputs": [
    {
     "data": {
      "image/png": "[encoded data removed]",
      "text/latex": [
       "$\\displaystyle 18 y$"
      ],
      "text/plain": [
       "18⋅y"
      ]
     },
     "execution_count": 159,
     "metadata": {},
     "output_type": "execute_result"
    }
   ],
   "source": [
    "result.subs(F(x,y), ftest).doit()"
   ]
  },
  {
   "cell_type": "markdown",
   "id": "96c819ae",
   "metadata": {},
   "source": [
    "### Warming Up 18"
   ]
  },
  {
   "cell_type": "code",
   "execution_count": 165,
   "id": "4817da6f",
   "metadata": {},
   "outputs": [
    {
     "data": {
      "image/png": "[encoded data removed]",
      "text/latex": [
       "$\\displaystyle 21144.2321433586$"
      ],
      "text/plain": [
       "21144.232143358553"
      ]
     },
     "execution_count": 165,
     "metadata": {},
     "output_type": "execute_result"
    }
   ],
   "source": [
    "import numpy as np\n",
    "\n",
    "N_x      = 100\n",
    "N_y      = 100\n",
    "\n",
    "# straight forward way\n",
    "result_1 = .0\n",
    "for x in range(N_x):\n",
    "    for y in range(N_y):\n",
    "        result_1 += np.exp( (float(x)/N_x)**2 + ( (float(y)/N_y)**2 ))\n",
    "result_1"
   ]
  },
  {
   "cell_type": "code",
   "execution_count": 166,
   "id": "42c294c2",
   "metadata": {},
   "outputs": [
    {
     "data": {
      "image/png": "[encoded data removed]",
      "text/latex": [
       "$\\displaystyle 21144.2321433585$"
      ],
      "text/plain": [
       "21144.232143358484"
      ]
     },
     "execution_count": 166,
     "metadata": {},
     "output_type": "execute_result"
    }
   ],
   "source": [
    "x = np.arange(N_x)\n",
    "y = np.arange(N_y)\n",
    "\n",
    "xx, yy = np.meshgrid(x, y)\n",
    "result = np.sum(np.exp((xx/N_x)**2 + (yy/N_y)**2))\n",
    "result"
   ]
  },
  {
   "attachments": {
    "image.png": {
     "image/png": "[encoded data removed]"
    }
   },
   "cell_type": "markdown",
   "id": "aa1091fd",
   "metadata": {},
   "source": [
    "![image.png](attachment:image.png)"
   ]
  },
  {
   "cell_type": "raw",
   "id": "c304239d",
   "metadata": {},
   "source": [
    "I = len(Y)\n",
    "J = len(Y[0])\n",
    "\n",
    "Y_i_vals = 0\n",
    "\n",
    "for i in range(M):\n",
    "    for j in range(N):\n",
    "        Y_i_vals = Y_i_vals +Y[i][j]\n",
    "Yt = (1.0/(M*N)) * Y_i_vals\n",
    "\n",
    "Yt = (1.0/(M*N)) * sum([Y[i][j] for i in range(M) for j in range(N)])"
   ]
  },
  {
   "attachments": {
    "image.png": {
     "image/png": "[encoded data removed]"
    }
   },
   "cell_type": "markdown",
   "id": "e059c7ed",
   "metadata": {},
   "source": [
    "![image.png](attachment:image.png)"
   ]
  },
  {
   "cell_type": "markdown",
   "id": "0eeca0bd",
   "metadata": {},
   "source": [
    "\\begin{equation}\n",
    "V(r, \\phi, \\lambda) = \\sum_{n=2}^{360}\\left(\\frac{a}{r}\\right)^{n}\\sum_{m=0}^{n}\\left[c_{nm}*\\cos{(m\\lambda)} + s_{nm}*\\sin{(m\\lambda)}\\right]*\\sqrt{\\frac{(n-m)!}{(n+m)!}(2n + 1)(2 - \\delta_{m0})}P_{nm}(\\sin{\\lambda})\n",
    "\\end{equation}"
   ]
  },
  {
   "cell_type": "raw",
   "id": "3943382c",
   "metadata": {},
   "source": [
    "import math\n",
    "import numpy\n",
    "c = numpy.getfromtxt(\"the_c_file.txt\")\n",
    "s = numpy.getfromtxt(\"the_s_file.txt\")\n",
    "delta = numpy.getfromtxt(\"the_delta_file.txt\")\n",
    "def V(r, phi, lam):\n",
    "  ret = 0\n",
    "  for n in xrange(2, 361):\n",
    "    for m in xrange(0, n + 1):\n",
    "      inner = c[n,m]*math.cos(m*lam) + s[n,m]*math.sin(m*lam)\n",
    "      inner *= math.sqrt(math.factorial(n-m)/math.factorial(n+m)*(2*n+1)*(2-delta[m,0]))\n",
    "      inner *= P(n, m, math.sin(lam))\n",
    "    ret += math.pow(a/r, n) * inner\n",
    "  return ret"
   ]
  },
  {
   "cell_type": "code",
   "execution_count": null,
   "id": "45d2dffe",
   "metadata": {},
   "outputs": [],
   "source": []
  },
  {
   "cell_type": "code",
   "execution_count": null,
   "id": "3e8b3020",
   "metadata": {},
   "outputs": [],
   "source": []
  },
  {
   "cell_type": "markdown",
   "id": "c2a2edde",
   "metadata": {},
   "source": [
    "$$\n",
    "P_2(x,y) = \\sum_{i=0}^2 \\sum_{j=0}^{2 - i} \\frac{\\frac{d^{(i+j)}f}{∂x^i∂y^{j}}(a,b) }{i!j!}(x-a)^i(y-b)^j\n",
    "$$\n",
    "\n",
    "$$\n",
    "f (x, y) \\approx Q(x, y) = f (a, b) + f_x(a, b) (x - a) + f_y(a, b) (y - b) + \\frac{f_{xx}(a, b)}{2}(x-a)^2 + f_{xy}(a,b)(x-a)(y-b) + \\frac{f_{yy}(a, b)}{2}(y-b)^2 \\label{tp2}\n",
    "$$"
   ]
  },
  {
   "attachments": {
    "image.png": {
     "image/png": "[encoded data removed]"
    }
   },
   "cell_type": "markdown",
   "id": "7f0d7c6c",
   "metadata": {},
   "source": [
    "![image.png](attachment:image.png)"
   ]
  },
  {
   "attachments": {
    "image.png": {
     "image/png": "[encoded data removed]"
    }
   },
   "cell_type": "markdown",
   "id": "82a4a9af",
   "metadata": {},
   "source": [
    "![image.png](attachment:image.png)"
   ]
  },
  {
   "attachments": {
    "image.png": {
     "image/png": "[encoded data removed]"
    }
   },
   "cell_type": "markdown",
   "id": "94700541",
   "metadata": {},
   "source": [
    "![image.png](attachment:image.png)"
   ]
  },
  {
   "cell_type": "code",
   "execution_count": 114,
   "id": "9075360a",
   "metadata": {},
   "outputs": [],
   "source": [
    "from sympy.core.function import ArgumentIndexError\n",
    "x, y, z = symbols('x y z')\n",
    "class f(Function):\n",
    "   @classmethod\n",
    "   def eval(cls, x, y):\n",
    "       pass\n",
    "\n",
    "   def fdiff(self, argindex):\n",
    "       if argindex == 1:\n",
    "          return 1\n",
    "       raise ArgumentIndexError(self, argindex)"
   ]
  },
  {
   "cell_type": "code",
   "execution_count": 115,
   "id": "3a5fb686",
   "metadata": {},
   "outputs": [
    {
     "data": {
      "image/png": "[encoded data removed]",
      "text/latex": [
       "$\\displaystyle 1$"
      ],
      "text/plain": [
       "1"
      ]
     },
     "execution_count": 115,
     "metadata": {},
     "output_type": "execute_result"
    }
   ],
   "source": [
    "f(x, y).diff(x)"
   ]
  },
  {
   "cell_type": "code",
   "execution_count": 116,
   "id": "64bb15fa",
   "metadata": {},
   "outputs": [
    {
     "data": {
      "image/png": "[encoded data removed]",
      "text/latex": [
       "$\\displaystyle \\frac{\\partial}{\\partial y} f{\\left(x,y \\right)}$"
      ],
      "text/plain": [
       "∂          \n",
       "──(f(x, y))\n",
       "∂y         "
      ]
     },
     "execution_count": 116,
     "metadata": {},
     "output_type": "execute_result"
    }
   ],
   "source": [
    "f(x, y).diff(y)"
   ]
  },
  {
   "cell_type": "code",
   "execution_count": null,
   "id": "caf54b7e",
   "metadata": {},
   "outputs": [],
   "source": []
  }
 ],
 "metadata": {
  "kernelspec": {
   "display_name": "Python 3 (ipykernel)",
   "language": "python",
   "name": "python3"
  },
  "language_info": {
   "codemirror_mode": {
    "name": "ipython",
    "version": 3
   },
   "file_extension": ".py",
   "mimetype": "text/x-python",
   "name": "python",
   "nbconvert_exporter": "python",
   "pygments_lexer": "ipython3",
   "version": "3.9.12"
  }
 },
 "nbformat": 4,
 "nbformat_minor": 5
}
