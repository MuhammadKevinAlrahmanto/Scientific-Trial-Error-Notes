{
 "cells": [
  {
   "cell_type": "code",
   "execution_count": 2,
   "id": "3476625b",
   "metadata": {},
   "outputs": [
    {
     "data": {
      "text/latex": [
       "$\\displaystyle \\sin{\\left(x{\\left(t \\right)} \\right)} \\cos{\\left(x{\\left(t \\right)} \\right)}$"
      ],
      "text/plain": [
       "sin(x(t))*cos(x(t))"
      ]
     },
     "execution_count": 2,
     "metadata": {},
     "output_type": "execute_result"
    }
   ],
   "source": [
    "import sympy as sp\n",
    "from sympy import sin, cos, Function\n",
    "\n",
    "t = sp.symbols('t')\n",
    "x = Function('x')\n",
    "f = cos(x(t))*sin(x(t))\n",
    "df = sp.diff(f, t)\n",
    "f"
   ]
  },
  {
   "cell_type": "code",
   "execution_count": 3,
   "id": "96190921",
   "metadata": {},
   "outputs": [
    {
     "data": {
      "text/latex": [
       "$\\displaystyle - \\sin^{2}{\\left(x{\\left(t \\right)} \\right)} \\frac{d}{d t} x{\\left(t \\right)} + \\cos^{2}{\\left(x{\\left(t \\right)} \\right)} \\frac{d}{d t} x{\\left(t \\right)}$"
      ],
      "text/plain": [
       "-sin(x(t))**2*Derivative(x(t), t) + cos(x(t))**2*Derivative(x(t), t)"
      ]
     },
     "execution_count": 3,
     "metadata": {},
     "output_type": "execute_result"
    }
   ],
   "source": [
    "df"
   ]
  },
  {
   "cell_type": "code",
   "execution_count": 6,
   "id": "cbff479b",
   "metadata": {},
   "outputs": [
    {
     "data": {
      "text/latex": [
       "$\\displaystyle \\sqrt{9 x^{4} + 1}$"
      ],
      "text/plain": [
       "sqrt(9*x**4 + 1)"
      ]
     },
     "execution_count": 6,
     "metadata": {},
     "output_type": "execute_result"
    }
   ],
   "source": [
    "#\"____________________________________________________________________\"#\n",
    "from sympy import *\n",
    "x, y, z = symbols('x y z', real=True)\n",
    "integrand = sqrt(1 + ((x**3).diff(x))**2)   \n",
    "integrand"
   ]
  },
  {
   "cell_type": "code",
   "execution_count": 7,
   "id": "0b339b76",
   "metadata": {},
   "outputs": [
    {
     "data": {
      "text/latex": [
       "$\\displaystyle \\frac{x \\Gamma\\left(\\frac{1}{4}\\right) {{}_{2}F_{1}\\left(\\begin{matrix} - \\frac{1}{2}, \\frac{1}{4} \\\\ \\frac{5}{4} \\end{matrix}\\middle| {9 x^{4} e^{i \\pi}} \\right)}}{4 \\Gamma\\left(\\frac{5}{4}\\right)}$"
      ],
      "text/plain": [
       "x*gamma(1/4)*hyper((-1/2, 1/4), (5/4,), 9*x**4*exp_polar(I*pi))/(4*gamma(5/4))"
      ]
     },
     "execution_count": 7,
     "metadata": {},
     "output_type": "execute_result"
    }
   ],
   "source": [
    "antiderivative = integrand.integrate(x)\n",
    "antiderivative"
   ]
  },
  {
   "cell_type": "markdown",
   "id": "305abaad",
   "metadata": {},
   "source": [
    "While that isn't the same form as the result from Wolfram Alpha it could easily be the same function (up to an additive constant). From this result or the one on Wolfram Alpha I very much doubt that you will find an analytic solution (using SymPy or anything else).\n",
    "\n",
    "You can however find a numerical solution. Unfortunately there is a bug in SymPy's lambdify function that means nsolve doesn't work with this function:"
   ]
  },
  {
   "cell_type": "code",
   "execution_count": 10,
   "id": "4b547aba",
   "metadata": {},
   "outputs": [
    {
     "data": {
      "text/latex": [
       "$\\displaystyle 2 \\sqrt{\\cos^{2}{\\left(2 \\right)} + \\sin^{2}{\\left(2 \\right)} + 9}$"
      ],
      "text/plain": [
       "2*sqrt(cos(2)**2 + sin(2)**2 + 9)"
      ]
     },
     "execution_count": 10,
     "metadata": {},
     "output_type": "execute_result"
    }
   ],
   "source": [
    "#\"____________________________________________________________________\"#\n",
    "from sympy import Tuple\n",
    "from sympy.abc import t\n",
    "x=Tuple(cos(t),sin(t),3*t)\n",
    "ss = sum([i.diff(t)**2 for i in x])\n",
    "integrate(sqrt(ss), (t,0,2))"
   ]
  },
  {
   "cell_type": "markdown",
   "id": "2f980fc3",
   "metadata": {},
   "source": [
    "SymPy does not yet allow 3-D curves but you can do this in general by defining the point parametrically, then integrating over the range of interest."
   ]
  },
  {
   "cell_type": "code",
   "execution_count": 11,
   "id": "721e9f8b",
   "metadata": {},
   "outputs": [
    {
     "data": {
      "text/latex": [
       "$\\displaystyle \\int \\sqrt{e^{2 l} + \\sin^{2}{\\left(e^{l} \\right)} \\cos^{2}{\\left(l \\right)}}\\, dl$"
      ],
      "text/plain": [
       "Integral(sqrt(exp(2*l) + sin(exp(l))**2*cos(l)**2), l)"
      ]
     },
     "execution_count": 11,
     "metadata": {},
     "output_type": "execute_result"
    }
   ],
   "source": [
    "#\"____________________________________________________________________\"#\n",
    "l = Symbol('l')\n",
    "arclength = Integral(sqrt(exp(2*l) + sin(exp(l))**2*cos(l)**2), l)\n",
    "arclength"
   ]
  },
  {
   "cell_type": "code",
   "execution_count": 12,
   "id": "37d97a9b",
   "metadata": {},
   "outputs": [
    {
     "data": {
      "text/latex": [
       "$\\displaystyle \\int\\limits_{0}^{1} \\sqrt{e^{2 l} + \\sin^{2}{\\left(e^{l} \\right)} \\cos^{2}{\\left(l \\right)}}\\, dl$"
      ],
      "text/plain": [
       "Integral(sqrt(exp(2*l) + sin(exp(l))**2*cos(l)**2), (l, 0, 1))"
      ]
     },
     "execution_count": 12,
     "metadata": {},
     "output_type": "execute_result"
    }
   ],
   "source": [
    "arclength = Integral(sqrt(exp(2*l) + sin(exp(l))**2*cos(l)**2), (l, 0, 1))\n",
    "arclength"
   ]
  },
  {
   "cell_type": "code",
   "execution_count": 13,
   "id": "7df84685",
   "metadata": {},
   "outputs": [
    {
     "data": {
      "text/latex": [
       "$\\displaystyle 1.91141826800283$"
      ],
      "text/plain": [
       "1.91141826800283"
      ]
     },
     "execution_count": 13,
     "metadata": {},
     "output_type": "execute_result"
    }
   ],
   "source": [
    "arclength.n()"
   ]
  },
  {
   "cell_type": "code",
   "execution_count": 14,
   "id": "6fc72d55",
   "metadata": {},
   "outputs": [
    {
     "data": {
      "text/latex": [
       "$\\displaystyle 40576$"
      ],
      "text/plain": [
       "40576"
      ]
     },
     "execution_count": 14,
     "metadata": {},
     "output_type": "execute_result"
    }
   ],
   "source": [
    "#\"____________________________________________________________________\"#\n",
    "\"\"\"\"a function with a double integral. The inner integral \n",
    "has boundaries 20 and x-2, while the outer has boundaries 22 and 30.\n",
    "from sympy import *\"\"\"\n",
    "\n",
    "x, y = symbols(\"x y\")\n",
    "f = (x ** 2 + y ** 2)\n",
    "res = integrate(f, (y, 20, x-2), (x, 22, 30))\n",
    "res"
   ]
  },
  {
   "cell_type": "code",
   "execution_count": 15,
   "id": "94f1d6c9",
   "metadata": {},
   "outputs": [
    {
     "data": {
      "text/latex": [
       "$\\displaystyle \\frac{x}{2} - y^{2}$"
      ],
      "text/plain": [
       "x/2 - y**2"
      ]
     },
     "execution_count": 15,
     "metadata": {},
     "output_type": "execute_result"
    }
   ],
   "source": [
    "example_poly = x/2-y**2\n",
    "example_poly"
   ]
  },
  {
   "cell_type": "code",
   "execution_count": 17,
   "id": "bdec7307",
   "metadata": {},
   "outputs": [
    {
     "data": {
      "text/latex": [
       "$\\displaystyle - \\frac{4}{3}$"
      ],
      "text/plain": [
       "-4/3"
      ]
     },
     "execution_count": 17,
     "metadata": {},
     "output_type": "execute_result"
    }
   ],
   "source": [
    "integrate(example_poly, (x, -1, 1), (y, -1, 1))"
   ]
  },
  {
   "cell_type": "code",
   "execution_count": 18,
   "id": "ffa63e83",
   "metadata": {},
   "outputs": [
    {
     "data": {
      "text/latex": [
       "$\\displaystyle \\left[\\begin{matrix}1\\\\x\\\\y\\\\x y\\end{matrix}\\right]$"
      ],
      "text/plain": [
       "Matrix([\n",
       "[  1],\n",
       "[  x],\n",
       "[  y],\n",
       "[x*y]])"
      ]
     },
     "execution_count": 18,
     "metadata": {},
     "output_type": "execute_result"
    }
   ],
   "source": [
    "import sympy as sp\n",
    "from sympy.abc import x,y\n",
    "\n",
    "V = sp.Matrix(4,1,[1,x,y,x*y])\n",
    "V"
   ]
  },
  {
   "cell_type": "code",
   "execution_count": 19,
   "id": "fc6fe20b",
   "metadata": {},
   "outputs": [
    {
     "data": {
      "text/latex": [
       "$\\displaystyle \\left[\\begin{matrix}1\\\\\\frac{1}{2}\\\\\\frac{1}{2}\\\\\\frac{1}{4}\\end{matrix}\\right]$"
      ],
      "text/plain": [
       "Matrix([\n",
       "[  1],\n",
       "[1/2],\n",
       "[1/2],\n",
       "[1/4]])"
      ]
     },
     "execution_count": 19,
     "metadata": {},
     "output_type": "execute_result"
    }
   ],
   "source": [
    "I = V.integrate((x,0,1),(y,0,1))\n",
    "I"
   ]
  },
  {
   "cell_type": "code",
   "execution_count": 24,
   "id": "50c43344",
   "metadata": {},
   "outputs": [
    {
     "data": {
      "text/latex": [
       "$\\displaystyle \\prod_{i=1}^{n} e^{f{\\left(i \\right)}}$"
      ],
      "text/plain": [
       "Product(exp(f(i)), (i, 1, n))"
      ]
     },
     "execution_count": 24,
     "metadata": {},
     "output_type": "execute_result"
    }
   ],
   "source": [
    "\"\"\"\"**************************************************************\n",
    "*******************************************\n",
    "************************\"\"\"\n",
    "i,n,base=symbols('i n base')\n",
    "f=Function('f')\n",
    "P = Product(E**f(i), (i, 1, n))  \n",
    "P"
   ]
  },
  {
   "cell_type": "code",
   "execution_count": 23,
   "id": "c6772c81",
   "metadata": {},
   "outputs": [
    {
     "data": {
      "text/latex": [
       "$\\displaystyle e^{\\sum_{i=1}^{n} \\log{\\left(e^{f{\\left(i \\right)}} \\right)}}$"
      ],
      "text/plain": [
       "exp(Sum(log(exp(f(i))), (i, 1, n)))"
      ]
     },
     "execution_count": 23,
     "metadata": {},
     "output_type": "execute_result"
    }
   ],
   "source": [
    "P.rewrite(Sum) "
   ]
  },
  {
   "cell_type": "markdown",
   "id": "73474c72",
   "metadata": {},
   "source": [
    "You can use rewrite to convert between Products and Sums using exp and log:"
   ]
  },
  {
   "cell_type": "code",
   "execution_count": 28,
   "id": "9f18270c",
   "metadata": {},
   "outputs": [
    {
     "data": {
      "image/png": "[encoded data removed]",
      "text/latex": [
       "$\\displaystyle \\iint a{\\left(x \\right)} b{\\left(y \\right)}\\, dy\\, dx$"
      ],
      "text/plain": [
       "⌠ ⌠                \n",
       "⎮ ⎮ a(x)⋅b(y) dy dx\n",
       "⌡ ⌡                "
      ]
     },
     "execution_count": 28,
     "metadata": {},
     "output_type": "execute_result"
    }
   ],
   "source": [
    "\"\"\"\"**************************************************************\n",
    "*******************************************\n",
    "************************\"\"\"\n",
    "from sympy import *\n",
    "\n",
    "from sympy.abc import x, y\n",
    "\n",
    "a, b = Function('a'), Function('b')\n",
    "\n",
    "Integral(a(x)*b(y), y, x)"
   ]
  },
  {
   "cell_type": "code",
   "execution_count": 29,
   "id": "5b84c2aa",
   "metadata": {},
   "outputs": [
    {
     "data": {
      "image/png": "[encoded data removed]",
      "text/latex": [
       "$\\displaystyle \\left(\\int a{\\left(x \\right)}\\, dx\\right) \\int b{\\left(y \\right)}\\, dy$"
      ],
      "text/plain": [
       "⌠         ⌠        \n",
       "⎮ a(x) dx⋅⎮ b(y) dy\n",
       "⌡         ⌡        "
      ]
     },
     "execution_count": 29,
     "metadata": {},
     "output_type": "execute_result"
    }
   ],
   "source": [
    "Integral(a(x)*b(y), y, x).doit()"
   ]
  },
  {
   "cell_type": "code",
   "execution_count": 32,
   "id": "7106bc4c",
   "metadata": {},
   "outputs": [
    {
     "data": {
      "image/png": "[encoded data removed]",
      "text/latex": [
       "$\\displaystyle \\left[ 1 - 1.0 \\frac{d^{2}}{d x^{2}} y{\\left(x \\right)} = 0\\right]$"
      ],
      "text/plain": [
       "⎡      2          ⎤\n",
       "⎢     d           ⎥\n",
       "⎢1 - ───(y(x)) = 0⎥\n",
       "⎢      2          ⎥\n",
       "⎣    dx           ⎦"
      ]
     },
     "execution_count": 32,
     "metadata": {},
     "output_type": "execute_result"
    }
   ],
   "source": [
    "from sympy import *\n",
    "\n",
    "x = Symbol('x')\n",
    "y = Function('y')(x)\n",
    "\n",
    "# define Lagrangian\n",
    "L = 0.5*(Derivative(y,x))**2 + y*Derivative(y,x) + Derivative(y,x) + y\n",
    "\n",
    "# Euler-Lagrange equation\n",
    "euler_equations(L,y,x)"
   ]
  },
  {
   "cell_type": "markdown",
   "id": "57cf237d",
   "metadata": {},
   "source": [
    "## ___________________________"
   ]
  },
  {
   "cell_type": "code",
   "execution_count": 34,
   "id": "c615bcbe",
   "metadata": {},
   "outputs": [
    {
     "data": {
      "image/png": "[encoded data removed]",
      "text/latex": [
       "$\\displaystyle e^{- i \\omega t}$"
      ],
      "text/plain": [
       " -ⅈ⋅ω⋅t\n",
       "ℯ      "
      ]
     },
     "execution_count": 34,
     "metadata": {},
     "output_type": "execute_result"
    }
   ],
   "source": [
    "from sympy import *\n",
    "from sympy.abc import  omega, t\n",
    "a = symbols('a', positive=True)\n",
    "f = E**(-I * omega * t)   \n",
    "f"
   ]
  },
  {
   "cell_type": "code",
   "execution_count": 35,
   "id": "5d0fff2f",
   "metadata": {},
   "outputs": [
    {
     "data": {
      "text/latex": [
       "$\\displaystyle \\begin{cases} - \\frac{i e^{i a t}}{t} + \\frac{i e^{- i a t}}{t} & \\text{for}\\: t > -\\infty \\wedge t < \\infty \\wedge t \\neq 0 \\\\2 a & \\text{otherwise} \\end{cases}$"
      ],
      "text/plain": [
       "⎧     ⅈ⋅a⋅t      -ⅈ⋅a⋅t                            \n",
       "⎪  ⅈ⋅ℯ        ⅈ⋅ℯ                                  \n",
       "⎪- ──────── + ─────────  for t > -∞ ∧ t < ∞ ∧ t ≠ 0\n",
       "⎨     t           t                                \n",
       "⎪                                                  \n",
       "⎪         2⋅a                    otherwise         \n",
       "⎩                                                  "
      ]
     },
     "execution_count": 35,
     "metadata": {},
     "output_type": "execute_result"
    }
   ],
   "source": [
    "integrate(f, (omega, -a, a))"
   ]
  },
  {
   "cell_type": "markdown",
   "id": "6ea5cd36",
   "metadata": {},
   "source": [
    "Sympy does not know about all the things you assume about your variables, so you need to tell sympy explicitly. For example a is supposed to be a positive (and hence real) number. If I tell this to sympy, then I get a nice answer. Try"
   ]
  },
  {
   "cell_type": "code",
   "execution_count": 36,
   "id": "fcd6fb95",
   "metadata": {},
   "outputs": [
    {
     "data": {
      "image/png": "[encoded data removed]",
      "text/latex": [
       "$\\displaystyle \\frac{- 2 a b^{2} + 100 b}{2 a + 2 b} - \\frac{2 \\left(- a^{2} b^{2} + 100 a b\\right)}{\\left(2 a + 2 b\\right)^{2}}$"
      ],
      "text/plain": [
       "       2             ⎛   2  2          ⎞\n",
       "- 2⋅a⋅b  + 100⋅b   2⋅⎝- a ⋅b  + 100⋅a⋅b⎠\n",
       "──────────────── - ─────────────────────\n",
       "   2⋅a + 2⋅b                       2    \n",
       "                        (2⋅a + 2⋅b)     "
      ]
     },
     "execution_count": 36,
     "metadata": {},
     "output_type": "execute_result"
    }
   ],
   "source": [
    "import sympy as sp\n",
    "sp.init_printing()\n",
    "\n",
    "a,b,c = sp.symbols(\"a b c\")\n",
    "\n",
    "N=a*b*100 - (a**2) * (b**2)\n",
    "D=2*(a+b)\n",
    "V = N / D\n",
    "V.diff(a)"
   ]
  },
  {
   "cell_type": "code",
   "execution_count": 37,
   "id": "d3f510c7",
   "metadata": {},
   "outputs": [
    {
     "data": {
      "image/png": "[encoded data removed]",
      "text/latex": [
       "$\\displaystyle \\frac{- a^{2} b^{2} - 2 a b^{3} + 100 b^{2}}{2 a^{2} + 4 a b + 2 b^{2}}$"
      ],
      "text/plain": [
       "   2  2        3        2\n",
       "- a ⋅b  - 2⋅a⋅b  + 100⋅b \n",
       "─────────────────────────\n",
       "      2              2   \n",
       "   2⋅a  + 4⋅a⋅b + 2⋅b    "
      ]
     },
     "execution_count": 37,
     "metadata": {},
     "output_type": "execute_result"
    }
   ],
   "source": [
    "V.diff(a).cancel()"
   ]
  },
  {
   "attachments": {
    "image.png": {
     "image/png": "[encoded data removed]"
    }
   },
   "cell_type": "markdown",
   "id": "bee03460",
   "metadata": {},
   "source": [
    "![image.png](attachment:image.png)"
   ]
  },
  {
   "cell_type": "code",
   "execution_count": 38,
   "id": "902fa5da",
   "metadata": {},
   "outputs": [
    {
     "data": {
      "image/png": "[encoded data removed]",
      "text/latex": [
       "$\\displaystyle \\frac{0.7}{l - 1} + \\frac{1.4}{l - 2} + \\frac{2.7}{l - 3} + \\frac{3.6}{l - 4}$"
      ],
      "text/plain": [
       " 0.7     1.4     2.7     3.6 \n",
       "───── + ───── + ───── + ─────\n",
       "l - 1   l - 2   l - 3   l - 4"
      ]
     },
     "execution_count": 38,
     "metadata": {},
     "output_type": "execute_result"
    }
   ],
   "source": [
    "from sympy.solvers import solve\n",
    "from sympy import symbols, summation, Array\n",
    "\n",
    "p = Array([0.2, 0.3, 0.3, 0.1, 0.1])\n",
    "l, j = symbols('l j')\n",
    "eq = summation(j * (1 - p[j]) / (l - j), (j, 0, 4))\n",
    "eq"
   ]
  },
  {
   "cell_type": "code",
   "execution_count": 40,
   "id": "43a84197",
   "metadata": {},
   "outputs": [
    {
     "data": {
      "image/png": "[encoded data removed]",
      "text/latex": [
       "$\\displaystyle \\left[ 1.13175762143963 + 9.29204634892077 \\cdot 10^{-30} i, \\  2.23358705810004 - 1.36185313905566 \\cdot 10^{-29} i, \\  3.4387382449005 + 3.71056356734273 \\cdot 10^{-30} i, \\  11.5959170755598 + 6.15921474293073 \\cdot 10^{-31} i\\right]$"
      ],
      "text/plain": [
       "[1.13175762143963 + 9.29204634892077e-30⋅ⅈ, 2.23358705810004 - 1.3618531390556\n",
       "6e-29⋅ⅈ, 3.4387382449005 + 3.71056356734273e-30⋅ⅈ, 11.5959170755598 + 6.159214\n",
       "74293073e-31⋅ⅈ]"
      ]
     },
     "execution_count": 40,
     "metadata": {},
     "output_type": "execute_result"
    }
   ],
   "source": [
    "s = solve(eq - 1, l) \n",
    "s"
   ]
  },
  {
   "cell_type": "markdown",
   "id": "846643c4",
   "metadata": {},
   "source": [
    "List p needs to be converted into symbolic array before it can be indexed with symbolic value j.\n",
    "(assuming your p stands for 1 - q)\n",
    "p = 1-q in the above, hence q[j] should have been replaced by (1-p[j])."
   ]
  },
  {
   "attachments": {
    "image.png": {
     "image/png": "[encoded data removed]"
    }
   },
   "cell_type": "markdown",
   "id": "3e44d02f",
   "metadata": {},
   "source": [
    "![image.png](attachment:image.png)"
   ]
  },
  {
   "attachments": {
    "image.png": {
     "image/png": "[encoded data removed]"
    }
   },
   "cell_type": "markdown",
   "id": "627a9a2d",
   "metadata": {},
   "source": [
    "![image.png](attachment:image.png)"
   ]
  },
  {
   "cell_type": "code",
   "execution_count": 41,
   "id": "fd5e67b7",
   "metadata": {},
   "outputs": [
    {
     "data": {
      "image/png": "[encoded data removed]",
      "text/latex": [
       "$\\displaystyle x_{0}^{2} + \\frac{m \\left(- x_{0} + x_{1}\\right)^{2}}{2 a}$"
      ],
      "text/plain": [
       "                  2\n",
       "  2   m⋅(-x₀ + x₁) \n",
       "x₀  + ─────────────\n",
       "           2⋅a     "
      ]
     },
     "execution_count": 41,
     "metadata": {},
     "output_type": "execute_result"
    }
   ],
   "source": [
    "import sympy\n",
    "from sympy import IndexedBase, Idx, oo, symbols\n",
    "a, m = symbols('a m', positive=True)\n",
    "N = 2\n",
    "\n",
    "def V(sym_a, sym_x):\n",
    "    return (sym_x**2)/sym_a\n",
    "\n",
    "j, j_primed = symbols('j, j_primed', integer=True)\n",
    "x = symbols('x0:{}'.format(N))\n",
    "S = sympy.Add(*[((m/(2*a)) * (x[j_idx+1] - x[j_idx])**2 + a*V(a, x[j_idx])) for j_idx in range(N-1)])\n",
    "S"
   ]
  },
  {
   "cell_type": "code",
   "execution_count": 42,
   "id": "36c0c00d",
   "metadata": {},
   "outputs": [
    {
     "data": {
      "text/latex": [
       "$\\displaystyle - \\frac{i \\pi \\sqrt{a} \\sqrt{4 a^{2} + 2 a m} \\left(\\begin{cases} \\frac{i}{\\sqrt{-1 + \\frac{4 a^{2} + 2 a m}{2 a m}}} & \\text{for}\\: \\frac{4 a^{2} + 2 a m}{a m} > 2 \\\\\\frac{1}{\\sqrt{1 - \\frac{4 a^{2} + 2 a m}{2 a m}}} & \\text{otherwise} \\end{cases}\\right)}{m \\sqrt{a + \\frac{m}{2}}}$"
      ],
      "text/plain": [
       "                          ⎛⎧                                 2            ⎞ \n",
       "                          ⎜⎪           ⅈ                  4⋅a  + 2⋅a⋅m    ⎟ \n",
       "                          ⎜⎪────────────────────────  for ──────────── > 2⎟ \n",
       "                          ⎜⎪     ___________________          a⋅m         ⎟ \n",
       "                          ⎜⎪    ╱         2                               ⎟ \n",
       "                          ⎜⎪   ╱       4⋅a  + 2⋅a⋅m                       ⎟ \n",
       "           ______________ ⎜⎪  ╱   -1 + ────────────                       ⎟ \n",
       "          ╱    2          ⎜⎪╲╱            2⋅a⋅m                           ⎟ \n",
       "-ⅈ⋅π⋅√a⋅╲╱  4⋅a  + 2⋅a⋅m ⋅⎜⎨                                              ⎟ \n",
       "                          ⎜⎪           1                                  ⎟ \n",
       "                          ⎜⎪───────────────────────        otherwise      ⎟ \n",
       "                          ⎜⎪     __________________                       ⎟ \n",
       "                          ⎜⎪    ╱        2                                ⎟ \n",
       "                          ⎜⎪   ╱      4⋅a  + 2⋅a⋅m                        ⎟ \n",
       "                          ⎜⎪  ╱   1 - ────────────                        ⎟ \n",
       "                          ⎜⎪╲╱           2⋅a⋅m                            ⎟ \n",
       "                          ⎝⎩                                              ⎠ \n",
       "────────────────────────────────────────────────────────────────────────────\n",
       "                                     _______                                \n",
       "                                    ╱     m                                 \n",
       "                               m⋅  ╱  a + ─                                 \n",
       "                                 ╲╱       2                                 "
      ]
     },
     "execution_count": 42,
     "metadata": {},
     "output_type": "execute_result"
    }
   ],
   "source": [
    "integrand = sympy.exp(-S)\n",
    "integrated_path = sympy.integrate(integrand, *[(x[j_primed_idx], -oo, oo) for j_primed_idx in range(N)], conds='none')\n",
    "integrated_path"
   ]
  },
  {
   "cell_type": "code",
   "execution_count": 43,
   "id": "87d25a2f",
   "metadata": {},
   "outputs": [
    {
     "data": {
      "image/png": "[encoded data removed]",
      "text/latex": [
       "$\\displaystyle \\pi$"
      ],
      "text/plain": [
       "π"
      ]
     },
     "execution_count": 43,
     "metadata": {},
     "output_type": "execute_result"
    }
   ],
   "source": [
    "subbed_path = integrated_path.subs({a: sympy.Rational(1, 2), m: 1})\n",
    "subbed_path"
   ]
  },
  {
   "cell_type": "markdown",
   "id": "d3475880",
   "metadata": {},
   "source": [
    "SymPy's handling of indexed objects is not nearly sophisticated enough to handle this computation as a human would. In particular, it is not going to understand integration over (x[j_primed_idx], -oo, oo) as \"integrate over all indexed x\". This looks like a single integration to SymPy, and over a variable that's distinct from any x[j] because the indices don't look the same. In short, SymPy doesn't really understand how indices work in mathematics.\n",
    "\n",
    "You'll need to declare the value of N upfront to get anything done. And to fix the typo in (x[j_idx+1] - x[j_idx]**2) — this should be (x[j_idx+1] - x[j_idx])**2. And it's still going to take forever if N is large and a and m are symbolic. The issue is that there are cases upon cases based on the relative sizes of a and m. Here is a working version with N, a, m all specified upfront — this helps the integrator a lot. Note the use of Rational(1, 2) instead of a float 0.5 by the way — this matters for SymPy."
   ]
  },
  {
   "cell_type": "code",
   "execution_count": 44,
   "id": "c03b7f67",
   "metadata": {},
   "outputs": [
    {
     "data": {
      "image/png": "[encoded data removed]",
      "text/latex": [
       "$\\displaystyle \\log{\\left(z^{- k + n} \\left(1 - \\sqrt{\\frac{- z^{2} \\cdot \\left(4 k + 8\\right) + 1}{- z^{2} \\cdot \\left(4 k + 4\\right) + 1}}\\right) \\prod_{j=0}^{k} \\frac{1}{z + \\sqrt{- 4 j z^{2} + 1}} \\right)}$"
      ],
      "text/plain": [
       "   ⎛                                              k                           \n",
       "   ⎜        ⎛          ____________________⎞ ─┬───────┬─                      \n",
       "   ⎜        ⎜         ╱    2               ⎟  │       │            1          \n",
       "   ⎜ -k + n ⎜        ╱  - z ⋅(4⋅k + 8) + 1 ⎟  │       │  ─────────────────────\n",
       "log⎜z      ⋅⎜1 -    ╱   ────────────────── ⎟⋅ │       │         ______________\n",
       "   ⎜        ⎜      ╱       2               ⎟  │       │        ╱        2     \n",
       "   ⎜        ⎝    ╲╱     - z ⋅(4⋅k + 4) + 1 ⎠  │       │  z + ╲╱  - 4⋅j⋅z  + 1 \n",
       "   ⎜                                          │       │                       \n",
       "   ⎝                                            j = 0                         \n",
       "\n",
       "⎞\n",
       "⎟\n",
       "⎟\n",
       "⎟\n",
       "⎟\n",
       "⎟\n",
       "⎟\n",
       "⎟\n",
       "⎠"
      ]
     },
     "execution_count": 44,
     "metadata": {},
     "output_type": "execute_result"
    }
   ],
   "source": [
    "import sympy as sp\n",
    "from IPython.display import display\n",
    "sp.init_printing() # display math as latex\n",
    "z = sp.Symbol('z')\n",
    "j,k,n = sp.symbols('j,k,n')\n",
    "Prod = sp.Product( (z + sp.sqrt(1-4*j*z**2))**(-1), (j,0,k))\n",
    "expr = sp.log(z**(n-k) * (1 - sp.sqrt((1 - 4*(k+2)*z**2)/(1-4*(k+1)*z**2)) ) * Prod)\n",
    "expr"
   ]
  },
  {
   "attachments": {
    "image.png": {
     "image/png": "[encoded data removed]"
    }
   },
   "cell_type": "markdown",
   "id": "1779e499",
   "metadata": {},
   "source": [
    "![image.png](attachment:image.png)"
   ]
  },
  {
   "cell_type": "code",
   "execution_count": 46,
   "id": "e3ae1bed",
   "metadata": {},
   "outputs": [
    {
     "data": {
      "image/png": "[encoded data removed]",
      "text/latex": [
       "$\\displaystyle \\sum_{k=1}^{120} 182.94 \\left(x + 1\\right)^{- \\frac{k}{12}} - 18150$"
      ],
      "text/plain": [
       " 120                           \n",
       " ____                          \n",
       " ╲                             \n",
       "  ╲                 -k         \n",
       "   ╲                ───        \n",
       "   ╱                 12 - 18150\n",
       "  ╱   182.94⋅(x + 1)           \n",
       " ╱                             \n",
       " ‾‾‾‾                          \n",
       "k = 1                          "
      ]
     },
     "execution_count": 46,
     "metadata": {},
     "output_type": "execute_result"
    }
   ],
   "source": [
    "from sympy.abc import k, x\n",
    "eq = 350 - 18500 + Sum(182.94 * (1/(1+x)**(k/12)), (k, 1, 120))\n",
    "eq"
   ]
  },
  {
   "cell_type": "code",
   "execution_count": 47,
   "id": "12230602",
   "metadata": {},
   "outputs": [
    {
     "data": {
      "image/png": "[encoded data removed]",
      "text/latex": [
       "$\\displaystyle 0.0397546543274819$"
      ],
      "text/plain": [
       "0.0397546543274819"
      ]
     },
     "execution_count": 47,
     "metadata": {},
     "output_type": "execute_result"
    }
   ],
   "source": [
    "nsolve(eq, 0)"
   ]
  },
  {
   "cell_type": "code",
   "execution_count": 48,
   "id": "34f5a7fa",
   "metadata": {},
   "outputs": [
    {
     "data": {
      "image/png": "[encoded data removed]",
      "text/latex": [
       "$\\displaystyle \\sum_{i=0}^{n - 1} \\delta_{i j}$"
      ],
      "text/plain": [
       "n - 1     \n",
       " ___      \n",
       " ╲        \n",
       "  ╲   δ   \n",
       "  ╱    i,j\n",
       " ╱        \n",
       " ‾‾‾      \n",
       "i = 0     "
      ]
     },
     "execution_count": 48,
     "metadata": {},
     "output_type": "execute_result"
    }
   ],
   "source": [
    "from sympy import *\n",
    "from sympy.concrete.delta import _simplify_delta\n",
    "\n",
    "n = symbols(\"n\")\n",
    "j = tensor.Idx(\"j\")\n",
    "i = tensor.Idx(\"i\")\n",
    "\n",
    "s = Sum(KroneckerDelta(i, j), (i, 0, n - 1))\n",
    "s"
   ]
  },
  {
   "cell_type": "code",
   "execution_count": 49,
   "id": "2d437f87",
   "metadata": {},
   "outputs": [
    {
     "data": {
      "text/latex": [
       "$\\displaystyle \\begin{cases} 1 & \\text{for}\\: j \\geq 0 \\wedge j \\leq n - 1 \\\\0 & \\text{otherwise} \\end{cases}$"
      ],
      "text/plain": [
       "⎧1  for j ≥ 0 ∧ j ≤ n - 1\n",
       "⎨                        \n",
       "⎩0        otherwise      "
      ]
     },
     "execution_count": 49,
     "metadata": {},
     "output_type": "execute_result"
    }
   ],
   "source": [
    "s.doit()"
   ]
  },
  {
   "cell_type": "code",
   "execution_count": 50,
   "id": "b92a71bf",
   "metadata": {},
   "outputs": [
    {
     "data": {
      "text/latex": [
       "$\\displaystyle \\begin{cases} 1 & \\text{for}\\: j \\geq 0 \\wedge j \\leq n - 1 \\\\0 & \\text{otherwise} \\end{cases}$"
      ],
      "text/plain": [
       "⎧1  for j ≥ 0 ∧ j ≤ n - 1\n",
       "⎨                        \n",
       "⎩0        otherwise      "
      ]
     },
     "execution_count": 50,
     "metadata": {},
     "output_type": "execute_result"
    }
   ],
   "source": [
    "summation(KroneckerDelta(i, j), (i, 0, n - 1))"
   ]
  },
  {
   "cell_type": "code",
   "execution_count": 51,
   "id": "5a3d1e4f",
   "metadata": {},
   "outputs": [
    {
     "data": {
      "image/png": "[encoded data removed]",
      "text/latex": [
       "$\\displaystyle 1$"
      ],
      "text/plain": [
       "1"
      ]
     },
     "execution_count": 51,
     "metadata": {},
     "output_type": "execute_result"
    }
   ],
   "source": [
    "s.doit().subs({j >= 0: True, j <= n-1: True})"
   ]
  },
  {
   "cell_type": "code",
   "execution_count": 53,
   "id": "89bac633",
   "metadata": {},
   "outputs": [
    {
     "data": {
      "image/png": "[encoded data removed]",
      "text/latex": [
       "$\\displaystyle \\sum_{d=1}^{d} \\frac{\\log{\\left(1 + \\frac{1}{d} \\right)}}{\\log{\\left(10 \\right)}}$"
      ],
      "text/plain": [
       "  d             \n",
       "_____           \n",
       "╲               \n",
       " ╲              \n",
       "  ╲      ⎛    1⎞\n",
       "   ╲  log⎜1 + ─⎟\n",
       "   ╱     ⎝    d⎠\n",
       "  ╱   ──────────\n",
       " ╱     log(10)  \n",
       "╱               \n",
       "‾‾‾‾‾           \n",
       "d = 1           "
      ]
     },
     "execution_count": 53,
     "metadata": {},
     "output_type": "execute_result"
    }
   ],
   "source": [
    "d = Symbol('d')\n",
    "CDF = Sum(log(1 + 1/d)/log(10), (d, 1, d))\n",
    "CDF"
   ]
  },
  {
   "cell_type": "code",
   "execution_count": 54,
   "id": "4a599f69",
   "metadata": {},
   "outputs": [
    {
     "data": {
      "image/png": "[encoded data removed]",
      "text/latex": [
       "$\\displaystyle \\frac{\\log{\\left(\\frac{6}{5} \\right)} + \\log{\\left(\\frac{5}{4} \\right)} + \\log{\\left(\\frac{4}{3} \\right)} + \\log{\\left(\\frac{3}{2} \\right)} + \\log{\\left(2 \\right)}}{\\log{\\left(10 \\right)}}$"
      ],
      "text/plain": [
       "log(6/5) + log(5/4) + log(4/3) + log(3/2) + log(2)\n",
       "──────────────────────────────────────────────────\n",
       "                     log(10)                      "
      ]
     },
     "execution_count": 54,
     "metadata": {},
     "output_type": "execute_result"
    }
   ],
   "source": [
    "CDF.subs(d, 5).doit() "
   ]
  },
  {
   "cell_type": "code",
   "execution_count": 55,
   "id": "4b5085fa",
   "metadata": {},
   "outputs": [
    {
     "data": {
      "image/png": "[encoded data removed]",
      "text/latex": [
       "$\\displaystyle \\frac{\\log{\\left(d + 1 \\right)}}{\\log{\\left(10 \\right)}}$"
      ],
      "text/plain": [
       "log(d + 1)\n",
       "──────────\n",
       " log(10)  "
      ]
     },
     "execution_count": 55,
     "metadata": {},
     "output_type": "execute_result"
    }
   ],
   "source": [
    " log(exp(CDF).expand().doit()).simplify() "
   ]
  },
  {
   "cell_type": "markdown",
   "id": "0329c166",
   "metadata": {},
   "source": [
    "## ------------------------------------------------ ##"
   ]
  },
  {
   "cell_type": "code",
   "execution_count": 56,
   "id": "7f3d3a62",
   "metadata": {},
   "outputs": [
    {
     "data": {
      "image/png": "[encoded data removed]",
      "text/latex": [
       "$\\displaystyle \\operatorname{CRootOf} {\\left(x^{25} - 96 x^{12} - 4 x^{3} + 2, 0\\right)}$"
      ],
      "text/plain": [
       "       ⎛ 25       12      3       ⎞\n",
       "CRootOf⎝x   - 96⋅x   - 4⋅x  + 2, 0⎠"
      ]
     },
     "execution_count": 56,
     "metadata": {},
     "output_type": "execute_result"
    }
   ],
   "source": [
    "r = RootOf(x**25-96*x**12-4*x**3+2, 0)\n",
    "r"
   ]
  },
  {
   "cell_type": "code",
   "execution_count": 57,
   "id": "178747a4",
   "metadata": {},
   "outputs": [
    {
     "data": {
      "image/png": "[encoded data removed]",
      "text/latex": [
       "$\\displaystyle -0.76373378272952$"
      ],
      "text/plain": [
       "-0.763733782729520"
      ]
     },
     "execution_count": 57,
     "metadata": {},
     "output_type": "execute_result"
    }
   ],
   "source": [
    "r.evalf()"
   ]
  },
  {
   "cell_type": "code",
   "execution_count": 58,
   "id": "d9267532",
   "metadata": {},
   "outputs": [
    {
     "data": {
      "image/png": "[encoded data removed]",
      "text/latex": [
       "$\\displaystyle \\left[ -0.76373378272952, \\  0.670586457724312, \\  1.42079389150078, \\  -1.37945211815055 - 0.340175934440882 i, \\  -1.37945211815055 + 0.340175934440882 i, \\  -1.06319298080894 - 0.941998724697874 i, \\  -1.06319298080894 + 0.941998724697874 i, \\  -0.611146252548878 - 0.4046612507279 i, \\  -0.611146252548878 + 0.4046612507279 i, \\  -0.503926321737819 - 1.32829285156355 i, \\  -0.503926321737819 + 1.32829285156355 i, \\  -0.335293228608336 - 0.580740856215139 i, \\  -0.335293228608336 + 0.580740856215139 i, \\  -0.0448923539768514 - 0.73158885083763 i, \\  -0.0448923539768514 + 0.73158885083763 i, \\  0.171380585123656 - 1.41042748193864 i, \\  0.171380585123656 + 1.41042748193864 i, \\  0.381866872385803 - 0.66145201247479 i, \\  0.381866872385803 + 0.66145201247479 i, \\  0.656038617401695 - 0.326927596015531 i, \\  0.656038617401695 + 0.326927596015531 i, \\  0.807048139834163 - 1.16893577654226 i, \\  0.807048139834163 + 1.16893577654226 i, \\  1.25774575783827 - 0.660302613302175 i, \\  1.25774575783827 + 0.660302613302175 i\\right]$"
      ],
      "text/plain": [
       "[-0.76373378272952, 0.670586457724312, 1.42079389150078, -1.37945211815055 - 0\n",
       ".340175934440882⋅ⅈ, -1.37945211815055 + 0.340175934440882⋅ⅈ, -1.06319298080894\n",
       " - 0.941998724697874⋅ⅈ, -1.06319298080894 + 0.941998724697874⋅ⅈ, -0.6111462525\n",
       "48878 - 0.4046612507279⋅ⅈ, -0.611146252548878 + 0.4046612507279⋅ⅈ, -0.50392632\n",
       "1737819 - 1.32829285156355⋅ⅈ, -0.503926321737819 + 1.32829285156355⋅ⅈ, -0.3352\n",
       "93228608336 - 0.580740856215139⋅ⅈ, -0.335293228608336 + 0.580740856215139⋅ⅈ, -\n",
       "0.0448923539768514 - 0.73158885083763⋅ⅈ, -0.0448923539768514 + 0.7315888508376\n",
       "3⋅ⅈ, 0.171380585123656 - 1.41042748193864⋅ⅈ, 0.171380585123656 + 1.41042748193\n",
       "864⋅ⅈ, 0.381866872385803 - 0.66145201247479⋅ⅈ, 0.381866872385803 + 0.661452012\n",
       "47479⋅ⅈ, 0.656038617401695 - 0.326927596015531⋅ⅈ, 0.656038617401695 + 0.326927\n",
       "596015531⋅ⅈ, 0.807048139834163 - 1.16893577654226⋅ⅈ, 0.807048139834163 + 1.168\n",
       "93577654226⋅ⅈ, 1.25774575783827 - 0.660302613302175⋅ⅈ, 1.25774575783827 + 0.66\n",
       "0302613302175⋅ⅈ]"
      ]
     },
     "execution_count": 58,
     "metadata": {},
     "output_type": "execute_result"
    }
   ],
   "source": [
    "Poly(x**25-96*x**12-4*x**3+2, x).nroots()"
   ]
  },
  {
   "cell_type": "code",
   "execution_count": 61,
   "id": "95eecf01",
   "metadata": {},
   "outputs": [
    {
     "data": {
      "image/png": "[encoded data removed]",
      "text/latex": [
       "$\\displaystyle \\sum_{k=0}^{N} F{\\left(\\Delta\\omega k \\right)} \\cos{\\left(\\Delta\\omega k t \\right)}$"
      ],
      "text/plain": [
       "  N                                          \n",
       " ___                                         \n",
       " ╲                                           \n",
       "  ╲                                          \n",
       "  ╱   F(\\Delta\\omega⋅k)⋅cos(\\Delta\\omega⋅k⋅t)\n",
       " ╱                                           \n",
       " ‾‾‾                                         \n",
       "k = 0                                        "
      ]
     },
     "execution_count": 61,
     "metadata": {},
     "output_type": "execute_result"
    }
   ],
   "source": [
    "from sympy import *\n",
    "F = Function('F')\n",
    "domega = symbols('\\Delta\\omega', real = True , positive=True,nonzero=True)\n",
    "omega = symbols('omega', real = True , positive=True,nonzero=True)\n",
    "T = symbols('T', real = True , positive=True,nonzero=True)\n",
    "N = symbols('N', integer = True, positive=True ,nonzero=True)\n",
    "k = symbols('k', integer = True ,positive=True )\n",
    "t = symbols('t', real = True, positive=True)\n",
    "\n",
    "T = 2 * pi / N / domega\n",
    "\n",
    "SF =  Sum(F(domega*k) * cos(t*domega*k),(k,0,N) )\n",
    "SF"
   ]
  },
  {
   "cell_type": "code",
   "execution_count": 60,
   "id": "e87a6a77",
   "metadata": {},
   "outputs": [
    {
     "data": {
      "image/png": "[encoded data removed]",
      "text/latex": [
       "$\\displaystyle \\sum_{k=0}^{N} \\frac{F{\\left(\\Delta\\omega k \\right)} \\sin{\\left(\\frac{2 \\pi k}{N} \\right)}}{\\Delta\\omega k}$"
      ],
      "text/plain": [
       "  N                               \n",
       "_____                             \n",
       "╲                                 \n",
       " ╲                                \n",
       "  ╲                        ⎛2⋅π⋅k⎞\n",
       "   ╲  F(\\Delta\\omega⋅k)⋅sin⎜─────⎟\n",
       "   ╱                       ⎝  N  ⎠\n",
       "  ╱   ────────────────────────────\n",
       " ╱           \\Delta\\omega⋅k       \n",
       "╱                                 \n",
       "‾‾‾‾‾                             \n",
       "k = 0                             "
      ]
     },
     "execution_count": 60,
     "metadata": {},
     "output_type": "execute_result"
    }
   ],
   "source": [
    "integrate(SF,(t,0,T))     "
   ]
  },
  {
   "cell_type": "code",
   "execution_count": 62,
   "id": "fa1ba119",
   "metadata": {},
   "outputs": [
    {
     "data": {
      "image/png": "[encoded data removed]",
      "text/latex": [
       "$\\displaystyle \\left[ P^{\\frac{1}{n}} - 1\\right]$"
      ],
      "text/plain": [
       "⎡n ___    ⎤\n",
       "⎣╲╱ P  - 1⎦"
      ]
     },
     "execution_count": 62,
     "metadata": {},
     "output_type": "execute_result"
    }
   ],
   "source": [
    "from sympy import var, Eq, solve\n",
    "\n",
    "var('C, r, n, fv, P', positive = True)\n",
    "\n",
    "# this throws an error: no algorithms are implemented to solve equation\n",
    "equation = Eq(P, C * ((1-1/(1+r)**n))/r + fv/(1+r)**n)\n",
    "\n",
    "# a simple calculation for power works fine\n",
    "equation = Eq(P, (1+r)**n)\n",
    "solve(equation, r)"
   ]
  },
  {
   "cell_type": "code",
   "execution_count": 63,
   "id": "33db4a1f",
   "metadata": {},
   "outputs": [],
   "source": [
    "import sympy\n",
    "from sympy import symbols\n",
    "\n",
    "P, C, r, n, fv = sympy.symbols('P C r n fv')\n",
    "eq = sympy.Eq(P, C * ((1-1/(1+r)**n))/r + fv/(1+r)**n)"
   ]
  },
  {
   "cell_type": "code",
   "execution_count": 64,
   "id": "b7f6f3d4",
   "metadata": {},
   "outputs": [
    {
     "data": {
      "image/png": "[encoded data removed]",
      "text/latex": [
       "$\\displaystyle P = \\frac{C \\left(1 - \\left(r + 1\\right)^{- n}\\right)}{r} + fv \\left(r + 1\\right)^{- n}$"
      ],
      "text/plain": [
       "      ⎛           -n⎞               \n",
       "    C⋅⎝1 - (r + 1)  ⎠             -n\n",
       "P = ───────────────── + fv⋅(r + 1)  \n",
       "            r                       "
      ]
     },
     "execution_count": 64,
     "metadata": {},
     "output_type": "execute_result"
    }
   ],
   "source": [
    "eq"
   ]
  },
  {
   "cell_type": "code",
   "execution_count": 68,
   "id": "8f09d0d8",
   "metadata": {},
   "outputs": [],
   "source": [
    "#We can rearrange this into a polynomial"
   ]
  },
  {
   "cell_type": "code",
   "execution_count": 65,
   "id": "c74453e0",
   "metadata": {},
   "outputs": [],
   "source": [
    " eq2 = Eq(eq.lhs * (1+r)**n * r, eq.rhs * (1+r)**n * r).expand()  "
   ]
  },
  {
   "cell_type": "code",
   "execution_count": 67,
   "id": "b0504147",
   "metadata": {},
   "outputs": [
    {
     "data": {
      "image/png": "[encoded data removed]",
      "text/latex": [
       "$\\displaystyle P r \\left(r + 1\\right)^{n} = C \\left(r + 1\\right)^{n} - C + fv r$"
      ],
      "text/plain": [
       "           n            n           \n",
       "P⋅r⋅(r + 1)  = C⋅(r + 1)  - C + fv⋅r"
      ]
     },
     "execution_count": 67,
     "metadata": {},
     "output_type": "execute_result"
    }
   ],
   "source": [
    " eq2  "
   ]
  },
  {
   "cell_type": "code",
   "execution_count": 70,
   "id": "b8a56b33",
   "metadata": {},
   "outputs": [
    {
     "data": {
      "image/png": "[encoded data removed]",
      "text/latex": [
       "$\\displaystyle 1 = \\frac{1}{\\left(r + 1\\right)^{100}} + \\frac{2 \\cdot \\left(1 - \\frac{1}{\\left(r + 1\\right)^{100}}\\right)}{r}$"
      ],
      "text/plain": [
       "                   ⎛        1     ⎞\n",
       "                 2⋅⎜1 - ──────────⎟\n",
       "                   ⎜           100⎟\n",
       "        1          ⎝    (r + 1)   ⎠\n",
       "1 = ────────── + ──────────────────\n",
       "           100           r         \n",
       "    (r + 1)                        "
      ]
     },
     "execution_count": 70,
     "metadata": {},
     "output_type": "execute_result"
    }
   ],
   "source": [
    "eq3 = eq.subs({P:1, C:2, fv:1, n:100}) \n",
    "eq3"
   ]
  },
  {
   "cell_type": "code",
   "execution_count": 71,
   "id": "c6159201",
   "metadata": {},
   "outputs": [
    {
     "data": {
      "image/png": "[encoded data removed]",
      "text/latex": [
       "$\\displaystyle 2.0$"
      ],
      "text/plain": [
       "2.00000000000000"
      ]
     },
     "execution_count": 71,
     "metadata": {},
     "output_type": "execute_result"
    }
   ],
   "source": [
    "nsolve(eq3, r, 1) "
   ]
  },
  {
   "cell_type": "markdown",
   "id": "8abf6139",
   "metadata": {},
   "source": [
    "Now we see that this is a polynomial except that the exponent n is symbolic. In general this kind of equation will not have a solution expressible in closed form - that is why sympy has no algorithms for this particular case (it is not a limitation of sympy itself).\n",
    "\n",
    "It is possible to solve this equation numerically but numerical solution only works if we have numerical values for each of the parameters. If we substitute numbers for the parameters then nsolve can find the solution numerically:"
   ]
  }
 ],
 "metadata": {
  "kernelspec": {
   "display_name": "Python 3 (ipykernel)",
   "language": "python",
   "name": "python3"
  },
  "language_info": {
   "codemirror_mode": {
    "name": "ipython",
    "version": 3
   },
   "file_extension": ".py",
   "mimetype": "text/x-python",
   "name": "python",
   "nbconvert_exporter": "python",
   "pygments_lexer": "ipython3",
   "version": "3.9.12"
  }
 },
 "nbformat": 4,
 "nbformat_minor": 5
}
