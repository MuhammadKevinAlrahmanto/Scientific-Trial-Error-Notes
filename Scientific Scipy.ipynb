{
 "cells": [
  {
   "cell_type": "code",
   "execution_count": 1,
   "id": "ee152ea8",
   "metadata": {},
   "outputs": [],
   "source": [
    "import numpy as np\n",
    "import matplotlib.pyplot as plt\n",
    "import scipy as sp"
   ]
  },
  {
   "cell_type": "markdown",
   "id": "63c4b8be",
   "metadata": {},
   "source": [
    "## Basic"
   ]
  },
  {
   "cell_type": "markdown",
   "id": "2c8ab601",
   "metadata": {},
   "source": [
    "# Optimization"
   ]
  },
  {
   "cell_type": "code",
   "execution_count": 2,
   "id": "604073ff",
   "metadata": {},
   "outputs": [],
   "source": [
    "from scipy.optimize import minimize"
   ]
  },
  {
   "cell_type": "code",
   "execution_count": 4,
   "id": "a48990c3",
   "metadata": {},
   "outputs": [
    {
     "data": {
      "text/plain": [
       "array([3.00000005])"
      ]
     },
     "execution_count": 4,
     "metadata": {},
     "output_type": "execute_result"
    }
   ],
   "source": [
    "def f(x):\n",
    "    return (x-3)**2\n",
    "res=minimize(f, 9)\n",
    "res.x"
   ]
  },
  {
   "cell_type": "code",
   "execution_count": 7,
   "id": "1ccae955",
   "metadata": {},
   "outputs": [],
   "source": [
    "f=lambda x: (x[0]-1)**2 + (x[1]-2.5)**2\n",
    "cons=({'type':'ineq','fun': lambda x:x[0]-2*x[1]+2 }, \n",
    "      {'type':'ineq','fun': lambda x:-x[0]-2*x[1]+6 },\n",
    "      {'type':'ineq','fun': lambda x:-x[0]+2*x[1]+2})\n",
    "bounds=((0, None),(0, None))\n",
    "res=minimize(f, (2,0), bounds=bounds, constraints=cons)"
   ]
  },
  {
   "cell_type": "code",
   "execution_count": 8,
   "id": "3df5b1e3",
   "metadata": {},
   "outputs": [
    {
     "data": {
      "text/plain": [
       "     fun: 0.8000000011920985\n",
       "     jac: array([ 0.80000002, -1.59999999])\n",
       " message: 'Optimization terminated successfully'\n",
       "    nfev: 10\n",
       "     nit: 3\n",
       "    njev: 3\n",
       "  status: 0\n",
       " success: True\n",
       "       x: array([1.4, 1.7])"
      ]
     },
     "execution_count": 8,
     "metadata": {},
     "output_type": "execute_result"
    }
   ],
   "source": [
    "res"
   ]
  },
  {
   "cell_type": "code",
   "execution_count": 10,
   "id": "487abcb0",
   "metadata": {},
   "outputs": [
    {
     "data": {
      "text/plain": [
       "<matplotlib.collections.PathCollection at 0x1bdf68652b0>"
      ]
     },
     "execution_count": 10,
     "metadata": {},
     "output_type": "execute_result"
    },
    {
     "data": {
      "image/png": "[encoded data removed]",
      "text/plain": [
       "<Figure size 432x288 with 1 Axes>"
      ]
     },
     "metadata": {
      "needs_background": "light"
     },
     "output_type": "display_data"
    }
   ],
   "source": [
    "x=np.linspace(0, 10, 10)\n",
    "y=x**2*np.sin(x)\n",
    "plt.scatter(x,y)"
   ]
  },
  {
   "cell_type": "code",
   "execution_count": 12,
   "id": "2b937fca",
   "metadata": {},
   "outputs": [],
   "source": [
    "from scipy.interpolate import interp1d"
   ]
  },
  {
   "cell_type": "code",
   "execution_count": 16,
   "id": "83722cd4",
   "metadata": {},
   "outputs": [
    {
     "data": {
      "text/plain": [
       "[<matplotlib.lines.Line2D at 0x1bdf7ad74f0>]"
      ]
     },
     "execution_count": 16,
     "metadata": {},
     "output_type": "execute_result"
    },
    {
     "data": {
      "image/png": "[encoded data removed]",
      "text/plain": [
       "<Figure size 432x288 with 1 Axes>"
      ]
     },
     "metadata": {
      "needs_background": "light"
     },
     "output_type": "display_data"
    }
   ],
   "source": [
    "f=interp1d(x, y, kind='cubic')\n",
    "x_dense=np.linspace(0, 10, 100)\n",
    "y_dense=f(x_dense)\n",
    "plt.plot(x_dense, y_dense)"
   ]
  },
  {
   "cell_type": "code",
   "execution_count": 48,
   "id": "a197a338",
   "metadata": {},
   "outputs": [
    {
     "data": {
      "text/plain": [
       "<matplotlib.collections.PathCollection at 0x1bdf85095e0>"
      ]
     },
     "execution_count": 48,
     "metadata": {},
     "output_type": "execute_result"
    },
    {
     "data": {
      "image/png": "[encoded data removed]",
      "text/plain": [
       "<Figure size 432x288 with 1 Axes>"
      ]
     },
     "metadata": {
      "needs_background": "light"
     },
     "output_type": "display_data"
    }
   ],
   "source": [
    "x_data=np.linspace(0,10, 10)\n",
    "y_data=3*x**2 + 5\n",
    "y_data+=np.random.randn(len(y_data))*2 \n",
    "plt.scatter(x_data, y_data)"
   ]
  },
  {
   "cell_type": "code",
   "execution_count": 49,
   "id": "a7662ce6",
   "metadata": {},
   "outputs": [
    {
     "name": "stdout",
     "output_type": "stream",
     "text": [
      "[[  0.           5.5957123 ]\n",
      " [  1.11111111   5.17796039]\n",
      " [  2.22222222  21.30322114]\n",
      " [  3.33333333  39.11229286]\n",
      " [  4.44444444  62.49124522]\n",
      " [  5.55555556  93.79951329]\n",
      " [  6.66666667 138.99352057]\n",
      " [  7.77777778 187.23966648]\n",
      " [  8.88888889 242.27685331]\n",
      " [ 10.         306.23109589]]\n"
     ]
    }
   ],
   "source": [
    "print(np.vstack([x_data, y_data]).T)"
   ]
  },
  {
   "cell_type": "code",
   "execution_count": 50,
   "id": "7e3622ec",
   "metadata": {},
   "outputs": [],
   "source": [
    "from scipy.optimize import curve_fit\n",
    "\n",
    "def func(x, a, b):\n",
    "    return a*x**2 +b\n",
    "popt, pcov=curve_fit(func, x_data, y_data, p0=(1,1))"
   ]
  },
  {
   "cell_type": "code",
   "execution_count": 51,
   "id": "fa4214a3",
   "metadata": {},
   "outputs": [
    {
     "data": {
      "text/plain": [
       "array([3.01767505, 4.04465281])"
      ]
     },
     "execution_count": 51,
     "metadata": {},
     "output_type": "execute_result"
    }
   ],
   "source": [
    "popt"
   ]
  },
  {
   "cell_type": "code",
   "execution_count": 41,
   "id": "3cdd0d2b",
   "metadata": {},
   "outputs": [
    {
     "data": {
      "text/plain": [
       "array([[ 5.76395565e-32, -2.02805849e-30],\n",
       "       [-2.02805849e-30,  1.34703148e-28]])"
      ]
     },
     "execution_count": 41,
     "metadata": {},
     "output_type": "execute_result"
    }
   ],
   "source": [
    "pcov"
   ]
  },
  {
   "cell_type": "code",
   "execution_count": 43,
   "id": "f856a9e6",
   "metadata": {},
   "outputs": [
    {
     "data": {
      "text/plain": [
       "array([ 0.33600244,  0.85242471, -0.47697784])"
      ]
     },
     "execution_count": 43,
     "metadata": {},
     "output_type": "execute_result"
    }
   ],
   "source": [
    "np.random.randn(3)"
   ]
  },
  {
   "cell_type": "markdown",
   "id": "6ad1ed88",
   "metadata": {},
   "source": [
    "## Special Function"
   ]
  },
  {
   "cell_type": "code",
   "execution_count": 52,
   "id": "191b1c78",
   "metadata": {},
   "outputs": [
    {
     "data": {
      "image/png": "[encoded data removed]",
      "text/plain": [
       "<Figure size 432x288 with 1 Axes>"
      ]
     },
     "metadata": {
      "needs_background": "light"
     },
     "output_type": "display_data"
    }
   ],
   "source": [
    "from scipy.special import legendre\n",
    "x=np.linspace(0,1,100)\n",
    "plt.plot(x, legendre(6)(x))\n",
    "plt.show()"
   ]
  },
  {
   "cell_type": "code",
   "execution_count": 53,
   "id": "def431b2",
   "metadata": {},
   "outputs": [],
   "source": [
    "from scipy.misc import derivative"
   ]
  },
  {
   "cell_type": "code",
   "execution_count": 54,
   "id": "00778799",
   "metadata": {},
   "outputs": [],
   "source": [
    "def f(x):\n",
    "    return x**2*np.sin(2*x)*np.exp(-x)\n",
    "x=np.linspace(0,1,100)"
   ]
  },
  {
   "cell_type": "code",
   "execution_count": 57,
   "id": "b436eab9",
   "metadata": {},
   "outputs": [
    {
     "data": {
      "text/plain": [
       "[<matplotlib.lines.Line2D at 0x1bdfcb06070>]"
      ]
     },
     "execution_count": 57,
     "metadata": {},
     "output_type": "execute_result"
    },
    {
     "data": {
      "image/png": "[encoded data removed]",
      "text/plain": [
       "<Figure size 432x288 with 1 Axes>"
      ]
     },
     "metadata": {
      "needs_background": "light"
     },
     "output_type": "display_data"
    }
   ],
   "source": [
    "plt.plot(x, f(x))\n",
    "plt.plot(x, derivative(f, x, dx=1e-6))\n",
    "plt.plot(x, derivative(f, x, dx=1e-6, n=2))"
   ]
  },
  {
   "cell_type": "code",
   "execution_count": 67,
   "id": "5d7e083a",
   "metadata": {},
   "outputs": [
    {
     "data": {
      "text/plain": [
       "array([6.00000000e-12, 1.81796907e-02, 5.32531787e-02, 8.91080081e-02,\n",
       "       1.18152910e-01, 1.25344699e-01, 1.59129595e-01, 1.97583992e-01,\n",
       "       2.28382335e-01, 2.30196800e-01, 2.70321754e-01, 2.96572723e-01,\n",
       "       3.36151450e-01, 3.42993886e-01, 3.63641997e-01, 4.15842330e-01,\n",
       "       4.29363674e-01, 4.36044114e-01, 4.88444013e-01, 4.93704378e-01,\n",
       "       5.29909148e-01, 5.56463013e-01, 5.60848810e-01, 6.17548321e-01,\n",
       "       6.17788006e-01, 6.33079935e-01, 6.76742962e-01, 6.99728549e-01,\n",
       "       7.04578810e-01, 7.34008828e-01, 7.75703855e-01, 7.75785600e-01,\n",
       "       7.89098472e-01, 8.41957568e-01, 8.46019656e-01, 8.46203914e-01,\n",
       "       8.92357160e-01, 9.10496883e-01, 9.15995392e-01, 9.40254495e-01,\n",
       "       9.69290301e-01, 9.84773664e-01, 9.85411389e-01, 1.02247636e+00,\n",
       "       1.02775507e+00, 1.05270694e+00, 1.06711450e+00, 1.07014032e+00,\n",
       "       1.10338696e+00, 1.11236836e+00, 1.11954808e+00, 1.13635066e+00,\n",
       "       1.14925451e+00, 1.16594930e+00, 1.18089489e+00, 1.18527293e+00,\n",
       "       1.19200758e+00, 1.20739122e+00, 1.21439775e+00, 1.22885503e+00,\n",
       "       1.23298068e+00, 1.24538251e+00, 1.24761277e+00, 1.24977502e+00,\n",
       "       1.25709435e+00, 1.25816685e+00, 1.26410533e+00, 1.26452872e+00,\n",
       "       1.26654859e+00, 1.31300430e+00, 1.37480058e+00, 1.43503231e+00,\n",
       "       1.49392962e+00, 1.55125159e+00, 1.60673037e+00, 1.66054299e+00,\n",
       "       1.71247864e+00, 1.76266030e+00, 1.81087862e+00, 1.85703592e+00,\n",
       "       1.90131276e+00, 1.94333521e+00, 1.98339607e+00, 2.02134465e+00,\n",
       "       2.05691978e+00, 2.09041593e+00, 2.12179502e+00, 2.15046433e+00,\n",
       "       2.17705281e+00, 2.20152374e+00, 2.22334119e+00, 2.24285775e+00,\n",
       "       2.26025987e+00, 2.27484611e+00, 2.28730312e+00, 2.29720759e+00,\n",
       "       2.30496913e+00, 2.31016489e+00, 2.31281633e+00, 2.31322259e+00])"
      ]
     },
     "execution_count": 67,
     "metadata": {},
     "output_type": "execute_result"
    }
   ],
   "source": [
    "np.sort(np.abs(derivative(f, x, dx=1e-6) -derivative(f, x, dx=1e-6, n=2)))"
   ]
  },
  {
   "cell_type": "code",
   "execution_count": 76,
   "id": "14762a54",
   "metadata": {},
   "outputs": [],
   "source": [
    "q=np.round(np.abs(derivative(f, x, dx=1e-6) -derivative(f, x, dx=1e-6, n=2)), 1) ==0"
   ]
  },
  {
   "cell_type": "code",
   "execution_count": 77,
   "id": "179fc5b2",
   "metadata": {},
   "outputs": [
    {
     "data": {
      "text/plain": [
       "array([0.        , 0.50505051])"
      ]
     },
     "execution_count": 77,
     "metadata": {},
     "output_type": "execute_result"
    }
   ],
   "source": [
    "x[q]"
   ]
  },
  {
   "cell_type": "code",
   "execution_count": 82,
   "id": "40d9f022",
   "metadata": {},
   "outputs": [],
   "source": [
    "from scipy.integrate import quad\n",
    "integrand=lambda x: x**2*np.sin(x)*np.exp(-x)\n",
    "integral, ierror=quad(integrand, 0, 1)"
   ]
  },
  {
   "cell_type": "code",
   "execution_count": 83,
   "id": "96f676ed",
   "metadata": {},
   "outputs": [
    {
     "data": {
      "text/plain": [
       "0.10246777930717413"
      ]
     },
     "execution_count": 83,
     "metadata": {},
     "output_type": "execute_result"
    }
   ],
   "source": [
    "integral"
   ]
  },
  {
   "cell_type": "code",
   "execution_count": null,
   "id": "42281f8a",
   "metadata": {},
   "outputs": [],
   "source": [
    "from scipy.integrate import dblquad\n",
    "intergrand = lambda x, y: np.sin(x+y**2)\n",
    "lwr_y=lambda x: -x\n",
    "upr_y= lambda "
   ]
  }
 ],
 "metadata": {
  "kernelspec": {
   "display_name": "Python 3 (ipykernel)",
   "language": "python",
   "name": "python3"
  },
  "language_info": {
   "codemirror_mode": {
    "name": "ipython",
    "version": 3
   },
   "file_extension": ".py",
   "mimetype": "text/x-python",
   "name": "python",
   "nbconvert_exporter": "python",
   "pygments_lexer": "ipython3",
   "version": "3.9.12"
  }
 },
 "nbformat": 4,
 "nbformat_minor": 5
}
